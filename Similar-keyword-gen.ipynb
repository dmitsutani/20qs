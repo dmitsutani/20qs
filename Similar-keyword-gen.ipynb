{
 "cells": [
  {
   "cell_type": "code",
   "execution_count": 1,
   "metadata": {},
   "outputs": [],
   "source": [
    "import os\n",
    "from openai import OpenAI\n",
    "\n",
    "if not os.environ[\"OPENAI_API_KEY\"]: \n",
    "    os.environ[\"OPENAI_API_KEY\"]= '<REDACTED>'\n",
    "\n",
    "MODEL = \"gpt-4o-mini\"\n",
    "\n",
    "client = OpenAI(\n",
    "    api_key=os.environ.get(\"OPENAI_API_KEY\"),\n",
    ")"
   ]
  },
  {
   "cell_type": "code",
   "execution_count": 2,
   "metadata": {},
   "outputs": [],
   "source": [
    "import json\n",
    "\n",
    "def read_jsonl_and_transform(file_path):\n",
    "    result_dict = {}\n",
    "\n",
    "    with open(file_path, 'r') as file:\n",
    "        for line in file:\n",
    "            record = json.loads(line)\n",
    "            keyword = record.pop('keyword')\n",
    "            result_dict[keyword] = record\n",
    "\n",
    "    return result_dict\n",
    "\n",
    "def read_json_to_dict(file_path):\n",
    "    with open(file_path, 'r') as file:\n",
    "        data = json.load(file)\n",
    "    return data\n",
    "\n",
    "keyword_labels, results = read_jsonl_and_transform('20qs-data/labeled_keywords.jsonl'), read_json_to_dict('20qs-data/labeling_results.jsonl')"
   ]
  },
  {
   "cell_type": "code",
   "execution_count": 5,
   "metadata": {},
   "outputs": [],
   "source": [
    "things_list = [word for word in keyword_labels if keyword_labels[word]['place'] == 'no']"
   ]
  },
  {
   "cell_type": "code",
   "execution_count": 19,
   "metadata": {},
   "outputs": [],
   "source": [
    "def make_similar_keyword(keyword):\n",
    "    \n",
    "    sys_prompt = (\"You are an assistant tasked with generating a keyword similar to a given keyword for a game of 20 Questions. \"\n",
    "                  \"The similar keyword should belong to the same general category but must not be a synonym or extremely similar. \"\n",
    "                  \"Here are some guiding examples:\\n\"\n",
    "                  \"Example 1:\\n Keyword: Mechanical pencil\\n Similar Keyword: Ballpoint pen\\n\"\n",
    "                  \"Example 2:\\n Keyword: Surgical mask\\n Similar Keyword: Forceps\\n\"\n",
    "                  \"Example 3:\\n Keyword: Honda Civic\\n Similar Keyword: Toyota Highlander\\n\"\n",
    "                  \"Example 4:\\n Keyword: Chocolate Mousse\\n Similar Keyword: Vanilla cake\\n\"\n",
    "                  \"Only output the similar keyword and nothing else.\\n\")\n",
    "    user_msg = f\"Keyword:{keyword}\\nSimilar Keyword:\"\n",
    "    \n",
    "    response = client.chat.completions.create(\n",
    "        model=\"gpt-4o-mini\",\n",
    "        messages=[\n",
    "            {\"role\": \"system\", \"content\": sys_prompt},\n",
    "            {\"role\": \"user\", \"content\": user_msg}\n",
    "        ],\n",
    "        max_tokens=10\n",
    "    )\n",
    "    response = response.choices[0].message.content\n",
    "\n",
    "    return response"
   ]
  },
  {
   "cell_type": "code",
   "execution_count": 21,
   "metadata": {},
   "outputs": [
    {
     "name": "stderr",
     "output_type": "stream",
     "text": [
      "keywords generated: 100%|██████████| 1327/1327 [11:13<00:00,  1.97it/s]\n"
     ]
    }
   ],
   "source": [
    "from tqdm import tqdm\n",
    "\n",
    "similar_keywords = []\n",
    "for keyword in tqdm(things_list, desc = 'keywords generated'):\n",
    "    similar_keyword = make_similar_keyword(keyword)\n",
    "    similar_keywords.append(similar_keyword)    "
   ]
  },
  {
   "cell_type": "code",
   "execution_count": 22,
   "metadata": {},
   "outputs": [],
   "source": [
    "with open('20qs-data/similar_keywords.txt', 'w') as file:\n",
    "    for item in similar_keywords:\n",
    "        file.write(f\"{item}\\n\")"
   ]
  }
 ],
 "metadata": {
  "kernelspec": {
   "display_name": "base",
   "language": "python",
   "name": "python3"
  },
  "language_info": {
   "codemirror_mode": {
    "name": "ipython",
    "version": 3
   },
   "file_extension": ".py",
   "mimetype": "text/x-python",
   "name": "python",
   "nbconvert_exporter": "python",
   "pygments_lexer": "ipython3",
   "version": "3.11.7"
  }
 },
 "nbformat": 4,
 "nbformat_minor": 2
}
