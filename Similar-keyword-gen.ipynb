{
 "cells": [
  {
   "cell_type": "code",
   "execution_count": 1,
   "metadata": {},
   "outputs": [],
   "source": [
    "import os\n",
    "from openai import OpenAI\n",
    "\n",
    "if not os.environ[\"OPENAI_API_KEY\"]: \n",
    "    os.environ[\"OPENAI_API_KEY\"]= '<REDACTED>'\n",
    "\n",
    "MODEL = \"gpt-4o-mini\"\n",
    "\n",
    "client = OpenAI(\n",
    "    api_key=os.environ.get(\"OPENAI_API_KEY\"),\n",
    ")"
   ]
  },
  {
   "cell_type": "code",
   "execution_count": 2,
   "metadata": {},
   "outputs": [],
   "source": [
    "import json\n",
    "\n",
    "def read_jsonl_and_transform(file_path):\n",
    "    result_dict = {}\n",
    "\n",
    "    with open(file_path, 'r') as file:\n",
    "        for line in file:\n",
    "            record = json.loads(line)\n",
    "            keyword = record.pop('keyword')\n",
    "            result_dict[keyword] = record\n",
    "\n",
    "    return result_dict\n",
    "\n",
    "def read_json_to_dict(file_path):\n",
    "    with open(file_path, 'r') as file:\n",
    "        data = json.load(file)\n",
    "    return data\n",
    "\n",
    "keyword_labels, results = read_jsonl_and_transform('20qs-data/labeled_keywords.jsonl'), read_json_to_dict('20qs-data/labeling_results.jsonl')"
   ]
  },
  {
   "cell_type": "code",
   "execution_count": 4,
   "metadata": {},
   "outputs": [
    {
     "name": "stdout",
     "output_type": "stream",
     "text": [
      "['ATV', 'Acetone', 'Acorn', 'Acrylic panel', 'Acrylic sheet', 'Action camera', 'Adhesive', 'Adrenal gland', 'Agar-agar', 'Air Conditioning Unit', 'Air compressor', 'Air horn', 'Air purifier', 'Air purifiers', 'Airbrush', 'Almond', 'Almond Extract', 'Almond butter', 'Alternator', 'Aluminium sheet', 'Aluminum foil', 'Amber', 'American Robin', 'Amphibian', 'Amplifier', 'Anemometer', 'Ankle Weights', 'Ankle bracelet', 'Ant', 'Antenna', 'Antique vase', 'Anxiety medication', 'Appetizer', 'Apple cider', 'Apple tart', 'Appliances', 'Arbor', 'Area rug', 'Assembly line', 'Athletic shoes', 'Audio interface', 'Augmented Reality Glasses', 'B B gun ammo', 'Backpack', 'Backpacks', 'Bacon', 'Bacteria', 'Badge holder', 'Badge reel', 'Baguette']\n"
     ]
    }
   ],
   "source": [
    "with open('20qs-data/keywords_data/similar_keywords_cleaned.txt', 'r') as file:\n",
    "    lines = file.readlines()\n",
    "\n",
    "once_similar_keywords = [line.strip() for line in lines]\n",
    "print(once_similar_keywords[:50])"
   ]
  },
  {
   "cell_type": "code",
   "execution_count": 5,
   "metadata": {},
   "outputs": [],
   "source": [
    "things_list = [word for word in keyword_labels if keyword_labels[word]['place'] == 'no']"
   ]
  },
  {
   "cell_type": "code",
   "execution_count": 3,
   "metadata": {},
   "outputs": [],
   "source": [
    "def make_similar_keyword(keyword):\n",
    "    \n",
    "    sys_prompt = (\"You are an assistant tasked with generating a keyword similar to a given keyword for a game of 20 Questions. \"\n",
    "                  \"The similar keyword should belong to the same general category but must not be a synonym or extremely similar. \"\n",
    "                  \"Here are some guiding examples:\\n\"\n",
    "                  \"Example 1:\\n Keyword: Mechanical pencil\\n Similar Keyword: Ballpoint pen\\n\"\n",
    "                  \"Example 2:\\n Keyword: Surgical mask\\n Similar Keyword: Forceps\\n\"\n",
    "                  \"Example 3:\\n Keyword: Honda Civic\\n Similar Keyword: Toyota Highlander\\n\"\n",
    "                  \"Example 4:\\n Keyword: Chocolate Mousse\\n Similar Keyword: Vanilla cake\\n\"\n",
    "                  \"Only output the similar keyword and nothing else.\\n\")\n",
    "    user_msg = f\"Keyword:{keyword}\\nSimilar Keyword:\"\n",
    "    \n",
    "    response = client.chat.completions.create(\n",
    "        model=\"gpt-4o-mini\",\n",
    "        messages=[\n",
    "            {\"role\": \"system\", \"content\": sys_prompt},\n",
    "            {\"role\": \"user\", \"content\": user_msg}\n",
    "        ],\n",
    "        max_tokens=10\n",
    "    )\n",
    "    response = response.choices[0].message.content\n",
    "\n",
    "    return response"
   ]
  },
  {
   "cell_type": "code",
   "execution_count": 8,
   "metadata": {},
   "outputs": [
    {
     "name": "stderr",
     "output_type": "stream",
     "text": [
      "keywords generated: 100%|██████████| 600/600 [04:31<00:00,  2.21it/s]\n"
     ]
    }
   ],
   "source": [
    "from tqdm import tqdm\n",
    "import random\n",
    "\n",
    "similar_keywords = []\n",
    "for keyword in tqdm(random.choices(once_similar_keywords, k = 600), desc = 'keywords generated'):\n",
    "    similar_keyword = make_similar_keyword(keyword)\n",
    "    similar_keywords.append(similar_keyword)    "
   ]
  },
  {
   "cell_type": "code",
   "execution_count": 9,
   "metadata": {},
   "outputs": [
    {
     "name": "stdout",
     "output_type": "stream",
     "text": [
      "['Toggle bolt', 'Serrano pepper', 'Fabric sofa', 'ID badge holder', 'Plaster cast', 'Rain gutter', 'Curling stone', 'Drumsticks', 'Hiker', 'Sputum', 'Boston fern', 'amber fossil', 'Hair tie', 'Oregano', 'Aluminum', 'Geothermal energy', 'Workbench', 'Tennis net', 'Smart television', 'Fabric loveseat', 'Mosaic lamp', 'Flat iron', 'Treehouse', 'Goose', 'Car wax', 'Seashell', 'Saxophone', 'Medical record', 'Paper plate', 'Elastic bandage', 'Crowd barrier', 'Craft adhesive', 'Neon sign', 'Gel', 'emerald', 'gummy worms', 'Apple sauce', 'Scrunchies', 'drivetrain', 'Fox', 'Nail', 'Greek yogurt container', 'Mongoose', 'Cottage pie', 'Airsoft pellets', 'Northern Cardinal', 'Motorhome', 'Bathtub Mat', 'Partition wall', 'Hydrangea shrub', 'Composting container', 'Loofah', 'Serving platters', 'Pelican', 'Bronze statue', 'Insecticide', 'License plate number', 'Hamster', 'Capo', 'Smart speakers', 'Mineral water', 'Phone case', 'label', 'Vase Arrangements', 'Gutter', 'dried apricot', 'Backpack cooler', 'Staghorn coral', 'Amazon Echo', 'Leopard', 'French Press', 'amber', 'Skirt', 'Cardstock', 'Lemon bar', 'Plank', 'mouse pad', 'Shrubs', 'Beetle', 'Kitchen scale', 'sparrow', 'Ketchup', 'Sneakers', 'Air duct', 'Hiking shoe', 'String lights', 'Dress', 'Frenzy', 'Hammock', 'Refrigerator magnet', 'Red pear', 'Wheelchair', 'Pot holder', 'Magnetic sign', 'Headbands', 'Metal brace', 'Eye pillow', 'Stuffed rabbit', 'Forest', 'Sorbet', 'Paper towel holder', 'Electric toothbrush', 'Catamaran', 'Latex gloves', 'Food dehydrator', 'Nose', 'Biodegradable plastic', 'Rosemary', 'Taco', 'First aid kit', 'SUV', 'Windshield', 'Mixing glass', 'N95 mask', 'Biodegradable material', 'Metal shelf support', 'Fuel filter', 'Yield sign', 'Smart TV', 'Crossbow', 'Rose bush', 'Spade', 'Ice cream machine', 'Mucus', 'Wardrobe', 'Fauna', 'Wi-Fi speakers', 'Electronics', 'Antidepressant', 'Air Purifier', 'Wind turbines', 'Velvet ribbon', 'Hiking map', 'Coffee grinders', 'Hat', 'Candy machine', 'Snap hook', 'Reel', 'Tupperware container', 'Tool Cart', 'Chain', 'Wall art', 'Gel mattress', 'Charcoal smoker', 'Oak tree', 'Brake fluid', 'Sushi', 'Invoice', 'Cat condos', 'Dance leotard', 'Marlin', 'Butterfly net', 'Wired earbuds', 'credit score', 'Floodlights', 'Cello string', 'Rose flower', 'Propane', 'Roller coaster', 'Scissor lift', 'Silk thread', 'Canvas', 'Nutrient broth', 'Lavender plant', 'CorningWare', 'Cup', 'Milk chocolate', 'shelf unit', 'food processor', 'Entrée', 'Brake', 'Embroidery', 'Clarinet', 'Chain hoist', 'Sandals', 'Easel', 'Bald eagle', 'Redwood tree', 'Gown', 'Charge', 'End table', 'heavy bag', 'Slippers', 'Woody plants', 'Hummingbird', 'Froot Loops', 'Extension Ladder', 'Cross-stitch Set', 'Plant saucer', 'Sprinkler system', 'Water chestnut', 'Peeler', 'Waffles', 'Slow cookers', 'Mascarpone cheese', 'Infrared sensor', 'electric bicycle', 'Showerhead', 'Bricks', 'Neon tube light', 'cardinal', 'Mobile payment terminal', 'Dental chair', 'Acoustic panels', 'Lunar lander', 'Catalytic converter', 'Carousel', 'Chest of drawers', 'Rummy', 'Greeting card', 'Chevrolet', 'Lime', 'charcuterie board', 'Oatmeal raisin cookie', 'Paper cutter', 'Wall shelf planter', 'Wind chime', 'Shoulder bag', 'Toiletry bag', 'bow tie', 'Earplugs', 'Dog food', 'Lumbar support pillow', 'Pitcher', 'Maple syrup', 'concert pass', 'Dill pickle', 'Duckweed', 'Manual razor', 'Bathroom Mat', 'Steamer', 'Roll-up door', 'Dust bunny', 'Cone crusher', 'Incandescent bulb', 'Sandhill crane', 'Pigeon', 'jelly beans', 'Varnish', 'Garmin', 'Smart home assistant', 'chickpea', 'Flash drives', 'Food processor', 'Surgical gown', 'Trumpet', 'Adhesive bandage', 'clutch pedal', 'Chimney', 'Action Camera', 'Tire jack', 'Lotion', 'Adidas', 'Inkjet printer', 'Sunglasses', 'Candy bag', 'Flying disc', 'Graham cracker', 'Roasting pan', 'Clothespin', 'Card games', 'palm tree sapling', 'Pepper spray', 'Apron', 'Vuvuzela', 'Spirulina', 'Oyster', 'Thyroid gland', 'Laser rangefinder', 'skateboard', 'Wireless Headphones', 'Dog dish', 'Firefly', 'bowtie', 'Planter', 'LED Light', 'Joshua tree', 'Microphone', 'Ex-libris', 'Greek yogurt tub', 'Area rugs', 'Maracas', 'Eastern Bluebird', 'Oak', 'dinner plate', 'Motorcycle', 'Tea Tree', 'Jolt', 'Smartphone camera', ' autograph', 'Cherry blossom tree', 'Robin', 'DVD disc', 'Paperback novel', 'Gold', 'Dry measuring cup', 'Wooden gate', 'dustpan', 'Butterfly', 'Pin badge', 'Wall', 'Potato flour', 'Wooden fence', 'Insulated Tumbler', 'Refrigerator', 'Store voucher', 'Wood stain', 'Glue', 'Rubber band', 'Fog horn', 'Cumin', 'Migraine', 'Planter box', 'Hip flask', 'Trebuchet', 'Quinoa', 'Shadow box', 'Jade', 'Beer tap', 'Insulated Bottle', 'Beach umbrella', 'Gelatin', 'Smart speaker', 'Highlighter', 'Artificial plant', 'Greek yogurt', 'Inflatable pool float', 'Ramen', 'Tonic water', 'Electric skillet', 'Squid', 'Trench coat', 'Highball glass', 'Energy bar', 'Hoverboard', 'Disc golf', 'Pita bread', 'Cucumber Vine', 'Parakeet', 'Fuse box', 'Magma chamber', 'Saturn V', 'Pistachio', 'Caravan', 'Rock climber', 'Shower mat', 'Hall Tree', 'Iced tea']\n"
     ]
    }
   ],
   "source": [
    "with open('20qs-data/keywords_data/keywords.txt', 'r') as file:\n",
    "    original_words = file.readlines()\n",
    "\n",
    "original_keywords = [line.strip() for line in original_words]\n",
    "\n",
    "with open('20qs-data/keywords_data/twice_removed_similar_keywords.txt', 'r') as file:\n",
    "    round_1 = file.readlines()\n",
    "    \n",
    "round_1_words = [line.strip() for line in original_words]\n",
    "\n",
    "similar_keywords = list(set(similar_keywords).difference(set(original_keywords)).difference(set(once_similar_keywords).difference(round_1_words)))\n",
    "print(similar_keywords)"
   ]
  },
  {
   "cell_type": "code",
   "execution_count": 10,
   "metadata": {},
   "outputs": [
    {
     "name": "stdout",
     "output_type": "stream",
     "text": [
      "348\n"
     ]
    }
   ],
   "source": [
    "print(len(similar_keywords))"
   ]
  },
  {
   "cell_type": "code",
   "execution_count": 11,
   "metadata": {},
   "outputs": [],
   "source": [
    "with open('20qs-data/twice_removed_more_similar_keywords.txt', 'w') as file:\n",
    "    for item in similar_keywords:\n",
    "        file.write(f\"{item}\\n\")"
   ]
  }
 ],
 "metadata": {
  "kernelspec": {
   "display_name": "base",
   "language": "python",
   "name": "python3"
  },
  "language_info": {
   "codemirror_mode": {
    "name": "ipython",
    "version": 3
   },
   "file_extension": ".py",
   "mimetype": "text/x-python",
   "name": "python",
   "nbconvert_exporter": "python",
   "pygments_lexer": "ipython3",
   "version": "3.11.7"
  }
 },
 "nbformat": 4,
 "nbformat_minor": 2
}
