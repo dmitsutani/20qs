{
 "cells": [
  {
   "cell_type": "code",
   "execution_count": 1,
   "id": "9a2d1b06-e8b0-434e-9de5-25b504712403",
   "metadata": {},
   "outputs": [],
   "source": [
    "%%capture\n",
    "!{sys.executable} -m pip install openai\n",
    "!{sys.executable} -m pip install litellm"
   ]
  },
  {
   "cell_type": "code",
   "execution_count": 2,
   "id": "ad3715cd-c529-4091-b517-a0ba4d8c44e8",
   "metadata": {},
   "outputs": [],
   "source": [
    "import os\n",
    "from openai import OpenAI\n",
    "\n",
    "if not os.environ[\"OPENAI_API_KEY\"]: \n",
    "    os.environ[\"OPENAI_API_KEY\"]= '<REDACTED>'\n",
    "\n",
    "MODEL = \"gpt-4o-mini\"\n",
    "\n",
    "client = OpenAI(\n",
    "    api_key=os.environ.get(\"OPENAI_API_KEY\"),\n",
    ")"
   ]
  },
  {
   "cell_type": "markdown",
   "id": "bf56c5d4",
   "metadata": {},
   "source": [
    "Open keywords data:"
   ]
  },
  {
   "cell_type": "code",
   "execution_count": 3,
   "id": "a3015193-ee9b-4c50-a193-ee1af0c6fcd9",
   "metadata": {},
   "outputs": [
    {
     "name": "stdout",
     "output_type": "stream",
     "text": [
      "Number of keywords in data: 2046\n"
     ]
    }
   ],
   "source": [
    "def read_file_to_list(file_path):\n",
    "    with open(file_path, 'r') as file:\n",
    "        lines = file.read().splitlines()\n",
    "    return lines\n",
    "\n",
    "keywords_list = read_file_to_list('20qs-data/keywords.txt')\n",
    "keywords_list = keywords_list[1:]\n",
    "print(f\"Number of keywords in data: {len(keywords_list)}\")"
   ]
  },
  {
   "cell_type": "markdown",
   "id": "c4923da1",
   "metadata": {},
   "source": [
    "## Labeling Functions"
   ]
  },
  {
   "cell_type": "code",
   "execution_count": 4,
   "id": "58d5c18b-e494-4349-8158-cbf86c9de815",
   "metadata": {},
   "outputs": [],
   "source": [
    "from collections import Counter\n",
    "from tqdm import tqdm\n",
    "\n",
    "def get_answer(label, keyword):\n",
    "    \n",
    "    prompt = f\"Keyword: {keyword}\\n\\nQuestion: {label['question']}\\n\\n\"\n",
    "    prompt += \"Please provide an answer to the question based on the keyword. ONLY ANSWER Yes OR No. IF UNSURE, CHOOSE MOST LIKELY ANSWER FROM Yes OR No. \"\n",
    "    \n",
    "    response = client.chat.completions.create(\n",
    "        model=\"gpt-4o-mini\",\n",
    "        messages=[\n",
    "            {\"role\": \"user\", \"content\": prompt}\n",
    "        ],\n",
    "        max_tokens=10\n",
    "    )\n",
    "    response = response.choices[0].message.content\n",
    "\n",
    "    return response\n",
    "\n",
    "\n",
    "def label_keywords(label, keywords, labels, results):\n",
    "    \n",
    "    label_tag = label['tag']\n",
    "    yes_no_counts = Counter()\n",
    "\n",
    "    for keyword in tqdm(keywords, desc = 'label_keywords', position = 0, leave = True, ncols = 100):\n",
    "        answer = get_answer(label, keyword)\n",
    "        answer = answer.lower()\n",
    "        # Count yes/no answers\n",
    "        if 'yes' in answer:\n",
    "            yes_no_counts['yes'] += 1\n",
    "            answer = 'yes'\n",
    "        elif 'no' in answer:\n",
    "            yes_no_counts['no'] += 1\n",
    "            answer = 'no'\n",
    "        else:\n",
    "            yes_no_counts['err'] +=1\n",
    "            answer = 'err'\n",
    "        if keyword in labels:\n",
    "            labels[keyword][label_tag] = answer\n",
    "        else:\n",
    "            labels[keyword] = {label_tag: answer}\n",
    "\n",
    "    # Calculate percentages\n",
    "    total_answers = sum(yes_no_counts.values())\n",
    "    yes_percentage = (yes_no_counts['yes'] / total_answers) * 100 if total_answers > 0 else 0\n",
    "    no_percentage = (yes_no_counts['no'] / total_answers) * 100 if total_answers > 0 else 0\n",
    "    err_percentage = (yes_no_counts['err'] / total_answers) * 100 if total_answers > 0 else 0\n",
    "\n",
    "    # Print results\n",
    "    print(label['question'])\n",
    "    print(f\"Yes answers: {yes_no_counts['yes']}, percentage: {yes_percentage:.2f}%\")\n",
    "    print(f\"No answers: {yes_no_counts['no']}, percentage: {no_percentage:.2f}%\")\n",
    "    print(f\"Error answers: {yes_no_counts['err']}, percentage: {err_percentage:.2f}%\")\n",
    "\n",
    "    # Save results\n",
    "    results[label_tag] = {\n",
    "        'yes_percentage': yes_percentage,\n",
    "        'no_percentage': no_percentage,\n",
    "        'yes_counts': yes_no_counts['yes'],\n",
    "        'no_counts': yes_no_counts['no'],\n",
    "        'err_counts': yes_no_counts['err']\n",
    "    }\n",
    "\n",
    "    return labels, results"
   ]
  },
  {
   "cell_type": "markdown",
   "id": "8b54f3bc-6332-44d3-a7e6-56928fdb809a",
   "metadata": {},
   "source": [
    "Read current keyword labels and results for adding labels:"
   ]
  },
  {
   "cell_type": "code",
   "execution_count": 7,
   "id": "d5588c21-afad-4457-b36e-c12a3d7e1385",
   "metadata": {},
   "outputs": [],
   "source": [
    "import json\n",
    "\n",
    "def read_jsonl_and_transform(file_path):\n",
    "    result_dict = {}\n",
    "\n",
    "    with open(file_path, 'r') as file:\n",
    "        for line in file:\n",
    "            record = json.loads(line)\n",
    "            keyword = record.pop('keyword')\n",
    "            result_dict[keyword] = record\n",
    "\n",
    "    return result_dict\n",
    "\n",
    "def read_json_to_dict(file_path):\n",
    "    with open(file_path, 'r') as file:\n",
    "        data = json.load(file)\n",
    "    return data\n",
    "\n",
    "keyword_labels, results = read_jsonl_and_transform('20qs-data/labeled_keywords-v2.jsonl'), read_json_to_dict('20qs-data/labeling_results-v2.jsonl')"
   ]
  },
  {
   "cell_type": "markdown",
   "id": "946c6446",
   "metadata": {},
   "source": [
    "OR start without any labels:"
   ]
  },
  {
   "cell_type": "code",
   "execution_count": 13,
   "id": "6fad6703",
   "metadata": {},
   "outputs": [],
   "source": [
    "#keyword_labels = {}\n",
    "#results = {}"
   ]
  },
  {
   "cell_type": "markdown",
   "id": "c0701435-953d-41fc-b567-72aa6c2e95ed",
   "metadata": {},
   "source": [
    "Label places/things:"
   ]
  },
  {
   "cell_type": "code",
   "execution_count": 14,
   "id": "d6bd5a7d-afcc-46ef-bc1a-68e81293308d",
   "metadata": {},
   "outputs": [
    {
     "name": "stderr",
     "output_type": "stream",
     "text": [
      "label_keywords:   0%|                                                      | 0/2046 [00:00<?, ?it/s]"
     ]
    },
    {
     "name": "stderr",
     "output_type": "stream",
     "text": [
      "label_keywords: 100%|███████████████████████████████████████████| 2046/2046 [17:45<00:00,  1.92it/s]"
     ]
    },
    {
     "name": "stdout",
     "output_type": "stream",
     "text": [
      "Is it a place?\n",
      "Yes answers: 699, percentage: 34.16%\n",
      "No answers: 1347, percentage: 65.84%\n",
      "Error answers: 0, percentage: 0.00%\n"
     ]
    },
    {
     "name": "stderr",
     "output_type": "stream",
     "text": [
      "\n"
     ]
    }
   ],
   "source": [
    "places_label = {'tag': 'place', 'question': \"Is it a place?\"}\n",
    "\n",
    "keyword_labels, results = label_keywords(places_label, keywords_list, keyword_labels, results)"
   ]
  },
  {
   "cell_type": "code",
   "execution_count": 8,
   "id": "6456aeae-fe98-46d2-85e8-c90b95804584",
   "metadata": {},
   "outputs": [
    {
     "name": "stdout",
     "output_type": "stream",
     "text": [
      "Number of keywords labeled as things: 1347.\n"
     ]
    }
   ],
   "source": [
    "keyword_places = [keyword for keyword in keywords_list if keyword_labels[keyword]['place'] == 'yes']\n",
    "keyword_things = [keyword for keyword in keywords_list if keyword_labels[keyword]['place'] == 'no']\n",
    "\n",
    "print(f\"Number of keywords labeled as things: {len(keyword_things)}.\")"
   ]
  },
  {
   "cell_type": "markdown",
   "id": "96f3f91c",
   "metadata": {},
   "source": [
    "## Things Branch"
   ]
  },
  {
   "cell_type": "markdown",
   "id": "787f7332",
   "metadata": {},
   "source": [
    "Labels to apply:"
   ]
  },
  {
   "cell_type": "code",
   "execution_count": 16,
   "id": "37fabb5c-d2ee-463b-8ce4-cf27ae522477",
   "metadata": {},
   "outputs": [],
   "source": [
    "labels_things = [\n",
    "    {'tag': 'food', 'question': \"Is it a food?\"},\n",
    "    {'tag': 'beverage', 'question': \"Is it a beverage?\"},\n",
    "    {'tag': 'living', 'question': \"Is it a living thing?\"},\n",
    "    {'tag': 'plant', 'question': \"Is it a plant?\"},\n",
    "    {'tag': 'animal', 'question': 'Is it an animal?'},\n",
    "    {'tag': 'electronics', 'question': \"Is it related to electronics or technology?\"},\n",
    "    {'tag': 'furniture', 'question': 'Is it furniture?'},\n",
    "    {'tag': 'transportation, vehicles', 'question': 'Is it related to transportation or vehicles?'},\n",
    "    {'tag': 'man-made', 'question': \"Is it a man-made thing?\"},\n",
    "    {'tag': 'furniture', 'question': \"Is it furniture?\"},\n",
    "    {'tag': 'architecture, construction', 'question': 'Is it related to architectural structures or construction?'},\n",
    "    {'tag': 'natural material, resource', 'question': 'Is it a natural material or resource?'},\n",
    "    {'tag': 'natural phenomenon', 'question': 'Is it a natural phenomenon?'},\n",
    "    {'tag': 'industry, manufacturing', 'question': \"Is it related to industrial production or manufacturing?\"},\n",
    "    {'tag': 'agriculture', 'question': \"Is it related to agricultural production?\"},\n",
    "    {'tag': 'arts, media', 'question': \"Is it broadly related to the arts or media?\"},\n",
    "    {'tag': 'safety', 'question': \"Is it related to safety or safety equipments?\"},\n",
    "    {'tag': 'medicine', 'question': \"Is it broadly related to medicine or healthcare?\"},\n",
    "    {'tag': 'clothing, accessories, beauty', 'question': \"Is it related to clothing, accessories or beauty products?\"},\n",
    "    {'tag': 'sports, entertainment', 'question': \"Is it broadly related to entertainment or sports?\"}\n",
    "]"
   ]
  },
  {
   "cell_type": "code",
   "execution_count": 17,
   "id": "d2c100d8-2968-4a59-8955-e8dfd73ffe5f",
   "metadata": {
    "collapsed": true,
    "jupyter": {
     "outputs_hidden": true
    }
   },
   "outputs": [
    {
     "name": "stderr",
     "output_type": "stream",
     "text": [
      "label_keywords: 100%|███████████████████████████████████████████| 1347/1347 [11:38<00:00,  1.93it/s]                           | 0/20 [00:00<?, ?it/s]\n",
      "labels:   5%|█████▏                                                                                                 | 1/20 [11:38<3:41:17, 698.80s/it]"
     ]
    },
    {
     "name": "stdout",
     "output_type": "stream",
     "text": [
      "Is it a food?\n",
      "Yes answers: 239, percentage: 17.74%\n",
      "No answers: 1108, percentage: 82.26%\n",
      "Error answers: 0, percentage: 0.00%\n"
     ]
    },
    {
     "name": "stderr",
     "output_type": "stream",
     "text": [
      "label_keywords: 100%|███████████████████████████████████████████| 1347/1347 [11:33<00:00,  1.94it/s]\n",
      "labels:  10%|██████████▎                                                                                            | 2/20 [23:11<3:28:38, 695.50s/it]"
     ]
    },
    {
     "name": "stdout",
     "output_type": "stream",
     "text": [
      "Is it a beverage?\n",
      "Yes answers: 46, percentage: 3.41%\n",
      "No answers: 1301, percentage: 96.59%\n",
      "Error answers: 0, percentage: 0.00%\n"
     ]
    },
    {
     "name": "stderr",
     "output_type": "stream",
     "text": [
      "label_keywords: 100%|███████████████████████████████████████████| 1347/1347 [11:03<00:00,  2.03it/s]\n",
      "labels:  15%|███████████████▍                                                                                       | 3/20 [34:15<3:12:51, 680.70s/it]"
     ]
    },
    {
     "name": "stdout",
     "output_type": "stream",
     "text": [
      "Is it a living thing?\n",
      "Yes answers: 191, percentage: 14.18%\n",
      "No answers: 1156, percentage: 85.82%\n",
      "Error answers: 0, percentage: 0.00%\n"
     ]
    },
    {
     "name": "stderr",
     "output_type": "stream",
     "text": [
      "label_keywords: 100%|███████████████████████████████████████████| 1347/1347 [11:27<00:00,  1.96it/s]\n",
      "labels:  20%|████████████████████▌                                                                                  | 4/20 [45:42<3:02:13, 683.34s/it]"
     ]
    },
    {
     "name": "stdout",
     "output_type": "stream",
     "text": [
      "Is it a plant?\n",
      "Yes answers: 131, percentage: 9.73%\n",
      "No answers: 1216, percentage: 90.27%\n",
      "Error answers: 0, percentage: 0.00%\n"
     ]
    },
    {
     "name": "stderr",
     "output_type": "stream",
     "text": [
      "label_keywords: 100%|███████████████████████████████████████████| 1347/1347 [11:25<00:00,  1.96it/s]\n",
      "labels:  25%|█████████████████████████▊                                                                             | 5/20 [57:08<2:51:03, 684.22s/it]"
     ]
    },
    {
     "name": "stdout",
     "output_type": "stream",
     "text": [
      "Is it an animal?\n",
      "Yes answers: 73, percentage: 5.42%\n",
      "No answers: 1274, percentage: 94.58%\n",
      "Error answers: 0, percentage: 0.00%\n"
     ]
    },
    {
     "name": "stderr",
     "output_type": "stream",
     "text": [
      "label_keywords: 100%|███████████████████████████████████████████| 1347/1347 [11:46<00:00,  1.91it/s]\n",
      "labels:  30%|██████████████████████████████▎                                                                      | 6/20 [1:08:54<2:41:25, 691.79s/it]"
     ]
    },
    {
     "name": "stdout",
     "output_type": "stream",
     "text": [
      "Is it related to electronics or technology?\n",
      "Yes answers: 322, percentage: 23.90%\n",
      "No answers: 1025, percentage: 76.10%\n",
      "Error answers: 0, percentage: 0.00%\n"
     ]
    },
    {
     "name": "stderr",
     "output_type": "stream",
     "text": [
      "label_keywords: 100%|███████████████████████████████████████████| 1347/1347 [11:38<00:00,  1.93it/s]\n",
      "labels:  35%|███████████████████████████████████▎                                                                 | 7/20 [1:20:32<2:30:19, 693.84s/it]"
     ]
    },
    {
     "name": "stdout",
     "output_type": "stream",
     "text": [
      "Is it furniture?\n",
      "Yes answers: 69, percentage: 5.12%\n",
      "No answers: 1278, percentage: 94.88%\n",
      "Error answers: 0, percentage: 0.00%\n"
     ]
    },
    {
     "name": "stderr",
     "output_type": "stream",
     "text": [
      "label_keywords: 100%|███████████████████████████████████████████| 1347/1347 [11:41<00:00,  1.92it/s]\n",
      "labels:  40%|████████████████████████████████████████▍                                                            | 8/20 [1:32:14<2:19:14, 696.25s/it]"
     ]
    },
    {
     "name": "stdout",
     "output_type": "stream",
     "text": [
      "Is it related to transportations or vehicles?\n",
      "Yes answers: 166, percentage: 12.32%\n",
      "No answers: 1181, percentage: 87.68%\n",
      "Error answers: 0, percentage: 0.00%\n"
     ]
    },
    {
     "name": "stderr",
     "output_type": "stream",
     "text": [
      "label_keywords: 100%|███████████████████████████████████████████| 1347/1347 [11:03<00:00,  2.03it/s]\n",
      "labels:  45%|█████████████████████████████████████████████▍                                                       | 9/20 [1:43:17<2:05:45, 685.93s/it]"
     ]
    },
    {
     "name": "stdout",
     "output_type": "stream",
     "text": [
      "Is it a man-made thing?\n",
      "Yes answers: 1067, percentage: 79.21%\n",
      "No answers: 280, percentage: 20.79%\n",
      "Error answers: 0, percentage: 0.00%\n"
     ]
    },
    {
     "name": "stderr",
     "output_type": "stream",
     "text": [
      "label_keywords: 100%|███████████████████████████████████████████| 1347/1347 [11:30<00:00,  1.95it/s]\n",
      "labels:  50%|██████████████████████████████████████████████████                                                  | 10/20 [1:54:47<1:54:33, 687.31s/it]"
     ]
    },
    {
     "name": "stdout",
     "output_type": "stream",
     "text": [
      "Is it furniture?\n",
      "Yes answers: 72, percentage: 5.35%\n",
      "No answers: 1275, percentage: 94.65%\n",
      "Error answers: 0, percentage: 0.00%\n"
     ]
    },
    {
     "name": "stderr",
     "output_type": "stream",
     "text": [
      "label_keywords: 100%|███████████████████████████████████████████| 1347/1347 [11:09<00:00,  2.01it/s]\n",
      "labels:  55%|███████████████████████████████████████████████████████                                             | 11/20 [2:05:57<1:42:18, 682.01s/it]"
     ]
    },
    {
     "name": "stdout",
     "output_type": "stream",
     "text": [
      "Is it related to architectural structures or construction?\n",
      "Yes answers: 241, percentage: 17.89%\n",
      "No answers: 1106, percentage: 82.11%\n",
      "Error answers: 0, percentage: 0.00%\n"
     ]
    },
    {
     "name": "stderr",
     "output_type": "stream",
     "text": [
      "label_keywords: 100%|███████████████████████████████████████████| 1347/1347 [11:33<00:00,  1.94it/s]\n",
      "labels:  60%|████████████████████████████████████████████████████████████                                        | 12/20 [2:17:31<1:31:25, 685.63s/it]"
     ]
    },
    {
     "name": "stdout",
     "output_type": "stream",
     "text": [
      "Is it a natural material or resource?\n",
      "Yes answers: 332, percentage: 24.65%\n",
      "No answers: 1015, percentage: 75.35%\n",
      "Error answers: 0, percentage: 0.00%\n"
     ]
    },
    {
     "name": "stderr",
     "output_type": "stream",
     "text": [
      "label_keywords: 100%|███████████████████████████████████████████| 1347/1347 [11:19<00:00,  1.98it/s]\n",
      "labels:  65%|█████████████████████████████████████████████████████████████████                                   | 13/20 [2:28:50<1:19:45, 683.67s/it]"
     ]
    },
    {
     "name": "stdout",
     "output_type": "stream",
     "text": [
      "Is it a natural phenomenon?\n",
      "Yes answers: 120, percentage: 8.91%\n",
      "No answers: 1227, percentage: 91.09%\n",
      "Error answers: 0, percentage: 0.00%\n"
     ]
    },
    {
     "name": "stderr",
     "output_type": "stream",
     "text": [
      "label_keywords: 100%|███████████████████████████████████████████| 1347/1347 [11:02<00:00,  2.03it/s]\n",
      "labels:  70%|██████████████████████████████████████████████████████████████████████                              | 14/20 [2:39:53<1:07:44, 677.41s/it]"
     ]
    },
    {
     "name": "stdout",
     "output_type": "stream",
     "text": [
      "Is it related to industrial production or manufacturing?\n",
      "Yes answers: 659, percentage: 48.92%\n",
      "No answers: 688, percentage: 51.08%\n",
      "Error answers: 0, percentage: 0.00%\n"
     ]
    },
    {
     "name": "stderr",
     "output_type": "stream",
     "text": [
      "label_keywords: 100%|███████████████████████████████████████████| 1347/1347 [11:11<00:00,  2.01it/s]\n",
      "labels:  75%|████████████████████████████████████████████████████████████████████████████▌                         | 15/20 [2:51:05<56:17, 675.53s/it]"
     ]
    },
    {
     "name": "stdout",
     "output_type": "stream",
     "text": [
      "Is it related to agricultural production?\n",
      "Yes answers: 468, percentage: 34.74%\n",
      "No answers: 879, percentage: 65.26%\n",
      "Error answers: 0, percentage: 0.00%\n"
     ]
    },
    {
     "name": "stderr",
     "output_type": "stream",
     "text": [
      "label_keywords: 100%|███████████████████████████████████████████| 1347/1347 [10:56<00:00,  2.05it/s]\n",
      "labels:  80%|█████████████████████████████████████████████████████████████████████████████████▌                    | 16/20 [3:02:01<44:39, 669.86s/it]"
     ]
    },
    {
     "name": "stdout",
     "output_type": "stream",
     "text": [
      "Is it broadly related to the arts or media?\n",
      "Yes answers: 467, percentage: 34.67%\n",
      "No answers: 880, percentage: 65.33%\n",
      "Error answers: 0, percentage: 0.00%\n"
     ]
    },
    {
     "name": "stderr",
     "output_type": "stream",
     "text": [
      "label_keywords: 100%|███████████████████████████████████████████| 1347/1347 [11:26<00:00,  1.96it/s]\n",
      "labels:  85%|██████████████████████████████████████████████████████████████████████████████████████▋               | 17/20 [3:13:27<33:44, 674.79s/it]"
     ]
    },
    {
     "name": "stdout",
     "output_type": "stream",
     "text": [
      "Is it related to safety or safety equipments?\n",
      "Yes answers: 332, percentage: 24.65%\n",
      "No answers: 1015, percentage: 75.35%\n",
      "Error answers: 0, percentage: 0.00%\n"
     ]
    },
    {
     "name": "stderr",
     "output_type": "stream",
     "text": [
      "label_keywords: 100%|███████████████████████████████████████████| 1347/1347 [11:42<00:00,  1.92it/s]\n",
      "labels:  90%|███████████████████████████████████████████████████████████████████████████████████████████▊          | 18/20 [3:25:10<22:46, 683.03s/it]"
     ]
    },
    {
     "name": "stdout",
     "output_type": "stream",
     "text": [
      "Is it broadly related to medicine or healthcare?\n",
      "Yes answers: 281, percentage: 20.86%\n",
      "No answers: 1066, percentage: 79.14%\n",
      "Error answers: 0, percentage: 0.00%\n"
     ]
    },
    {
     "name": "stderr",
     "output_type": "stream",
     "text": [
      "label_keywords: 100%|███████████████████████████████████████████| 1347/1347 [11:23<00:00,  1.97it/s]\n",
      "labels:  95%|████████████████████████████████████████████████████████████████████████████████████████████████▉     | 19/20 [3:36:33<11:23, 683.21s/it]"
     ]
    },
    {
     "name": "stdout",
     "output_type": "stream",
     "text": [
      "Is it related to clothing, accessories or beauty products?\n",
      "Yes answers: 249, percentage: 18.49%\n",
      "No answers: 1098, percentage: 81.51%\n",
      "Error answers: 0, percentage: 0.00%\n"
     ]
    },
    {
     "name": "stderr",
     "output_type": "stream",
     "text": [
      "label_keywords: 100%|███████████████████████████████████████████| 1347/1347 [11:28<00:00,  1.96it/s]\n",
      "labels: 100%|██████████████████████████████████████████████████████████████████████████████████████████████████████| 20/20 [3:48:02<00:00, 684.10s/it]"
     ]
    },
    {
     "name": "stdout",
     "output_type": "stream",
     "text": [
      "Is it broadly related to entertainment or sports?\n",
      "Yes answers: 281, percentage: 20.86%\n",
      "No answers: 1066, percentage: 79.14%\n",
      "Error answers: 0, percentage: 0.00%\n"
     ]
    },
    {
     "name": "stderr",
     "output_type": "stream",
     "text": [
      "\n"
     ]
    }
   ],
   "source": [
    "for label in tqdm(labels_things, desc = 'labels', ncols=150):\n",
    "    keyword_labels, results = label_keywords(label, keyword_things, keyword_labels, results)"
   ]
  },
  {
   "cell_type": "code",
   "execution_count": 9,
   "id": "67fa0c68",
   "metadata": {},
   "outputs": [],
   "source": [
    "labels_things_to_add_or_modify = [\n",
    "    {'tag': 'food, beverage, cooking', 'question': 'Is it related to food, beverages or cooking?'},\n",
    "    {'tag': 'handheld', 'question': 'Is it something a person can hold in their hand?'},\n",
    "    {'tag': 'industry, manufacturing', 'question': \"Is it used in industrial production or manufacturing?\"},\n",
    "    {'tag': 'agriculture', 'question': \"Is it used in agricultural production?\"},\n",
    "    {'tag': 'transportation, vehicles', 'question': 'Is it related to transportation or vehicles?'},\n",
    "    {'tag': 'indoors', 'question': 'Is it something that can be found indoors?'}\n",
    "]"
   ]
  },
  {
   "cell_type": "code",
   "execution_count": 10,
   "id": "77e8df85",
   "metadata": {},
   "outputs": [
    {
     "name": "stderr",
     "output_type": "stream",
     "text": [
      "label_keywords: 100%|███████████████████████████████████████████| 1347/1347 [10:50<00:00,  2.07it/s]                            | 0/6 [00:00<?, ?it/s]\n",
      "labels:  17%|█████████████████▋                                                                                        | 1/6 [10:50<54:14, 650.84s/it]"
     ]
    },
    {
     "name": "stdout",
     "output_type": "stream",
     "text": [
      "Is it related to food, beverages or cooking?\n",
      "Yes answers: 410, percentage: 30.44%\n",
      "No answers: 937, percentage: 69.56%\n",
      "Error answers: 0, percentage: 0.00%\n"
     ]
    },
    {
     "name": "stderr",
     "output_type": "stream",
     "text": [
      "label_keywords: 100%|███████████████████████████████████████████| 1347/1347 [10:48<00:00,  2.08it/s]\n",
      "labels:  33%|███████████████████████████████████▎                                                                      | 2/6 [21:39<43:18, 649.57s/it]"
     ]
    },
    {
     "name": "stdout",
     "output_type": "stream",
     "text": [
      "Is it something a person can hold in their hand?\n",
      "Yes answers: 941, percentage: 69.86%\n",
      "No answers: 406, percentage: 30.14%\n",
      "Error answers: 0, percentage: 0.00%\n"
     ]
    },
    {
     "name": "stderr",
     "output_type": "stream",
     "text": [
      "label_keywords: 100%|███████████████████████████████████████████| 1347/1347 [10:57<00:00,  2.05it/s]\n",
      "labels:  50%|█████████████████████████████████████████████████████                                                     | 3/6 [32:37<32:39, 653.25s/it]"
     ]
    },
    {
     "name": "stdout",
     "output_type": "stream",
     "text": [
      "Is it used in industrial production or manufacturing?\n",
      "Yes answers: 704, percentage: 52.26%\n",
      "No answers: 643, percentage: 47.74%\n",
      "Error answers: 0, percentage: 0.00%\n"
     ]
    },
    {
     "name": "stderr",
     "output_type": "stream",
     "text": [
      "label_keywords: 100%|███████████████████████████████████████████| 1347/1347 [10:48<00:00,  2.08it/s]\n",
      "labels:  67%|██████████████████████████████████████████████████████████████████████▋                                   | 4/6 [43:25<21:42, 651.47s/it]"
     ]
    },
    {
     "name": "stdout",
     "output_type": "stream",
     "text": [
      "Is it used in agricultural production?\n",
      "Yes answers: 556, percentage: 41.28%\n",
      "No answers: 791, percentage: 58.72%\n",
      "Error answers: 0, percentage: 0.00%\n"
     ]
    },
    {
     "name": "stderr",
     "output_type": "stream",
     "text": [
      "label_keywords: 100%|███████████████████████████████████████████| 1347/1347 [10:50<00:00,  2.07it/s]\n",
      "labels:  83%|████████████████████████████████████████████████████████████████████████████████████████▎                 | 5/6 [54:16<10:51, 651.01s/it]"
     ]
    },
    {
     "name": "stdout",
     "output_type": "stream",
     "text": [
      "Is it related to transportation or vehicles?\n",
      "Yes answers: 169, percentage: 12.55%\n",
      "No answers: 1178, percentage: 87.45%\n",
      "Error answers: 0, percentage: 0.00%\n"
     ]
    },
    {
     "name": "stderr",
     "output_type": "stream",
     "text": [
      "label_keywords: 100%|███████████████████████████████████████████| 1347/1347 [11:07<00:00,  2.02it/s]\n",
      "labels: 100%|████████████████████████████████████████████████████████████████████████████████████████████████████████| 6/6 [1:05:23<00:00, 653.92s/it]"
     ]
    },
    {
     "name": "stdout",
     "output_type": "stream",
     "text": [
      "Is it something that can be found indoors?\n",
      "Yes answers: 1133, percentage: 84.11%\n",
      "No answers: 214, percentage: 15.89%\n",
      "Error answers: 0, percentage: 0.00%\n"
     ]
    },
    {
     "name": "stderr",
     "output_type": "stream",
     "text": [
      "\n"
     ]
    }
   ],
   "source": [
    "for label in tqdm(labels_things_to_add_or_modify, desc = 'labels', ncols=150):\n",
    "    keyword_labels, results = label_keywords(label, keyword_things, keyword_labels, results)"
   ]
  },
  {
   "cell_type": "markdown",
   "id": "a134d2c5",
   "metadata": {},
   "source": [
    "## Places Branch\n",
    "Out of use as of the last competition update."
   ]
  },
  {
   "cell_type": "code",
   "execution_count": 18,
   "id": "f61fd12b",
   "metadata": {},
   "outputs": [],
   "source": [
    "labels_places = [\n",
    "    {'tag': 'country', 'question': \"Is it a country?\"},\n",
    "    {'tag': 'city', 'question': \"Is it a city?\"},\n",
    "    {'tag': 'capital', 'question': \"Is it a capital of a country?\"},\n",
    "    {'tag': 'landlocked', 'question': \"Is the place either a landlocked country or a place located in a landlocked country?\"},\n",
    "    {'tag': 'coast', 'question': 'Is this place found along the coast?'},\n",
    "    {'tag': 'geological feature', 'question': 'Is it a geological feature?'},\n",
    "    {'tag': 'africa', 'question': \"Is it in Africa?\"},\n",
    "    {'tag': 'asia', 'question': 'Is it in Asia?'},\n",
    "    {'tag': 'europe', 'question': 'Is it in Europe?'},\n",
    "    {'tag': 'hemisphere', 'question': 'Is it in the Western hemisphere?'},\n",
    "    {'tag': 'oceania', 'question': 'Is it in Oceania?'},\n",
    "    {'tag': 'europe or asia', 'question': \"Is it either in europe or asia?\"},\n",
    "    {'tag': 'americas', 'question': \"Is it in the Americas?\"},\n",
    "    {'tag': 'north america', 'question': 'Is it in North America?'},\n",
    "    {'tag': 'man-made landmark', 'question': 'Is it a man-made landmark?'},\n",
    "    {'tag': 'natural landmark', 'question': 'Is it a natural landmark?'},\n",
    "    {'tag': 'equator', 'question': \"Is it north of the equator?\"},\n",
    "    {'tag': 'body of water', 'question': \"Is it a body of water?\"},\n",
    "    {'tag': 'biome', 'question': \"Is it a type of biome?\"},\n",
    "    {'tag': 'building', 'question': \"Is it a type of building or stucture?\"}\n",
    "]"
   ]
  },
  {
   "cell_type": "code",
   "execution_count": 19,
   "id": "60ca7dcd",
   "metadata": {},
   "outputs": [
    {
     "name": "stderr",
     "output_type": "stream",
     "text": [
      "label_keywords: 100%|█████████████████████████████████████████████| 699/699 [06:20<00:00,  1.84it/s]                           | 0/20 [00:00<?, ?it/s]\n",
      "labels:   5%|█████▏                                                                                                 | 1/20 [06:20<2:00:33, 380.74s/it]"
     ]
    },
    {
     "name": "stdout",
     "output_type": "stream",
     "text": [
      "Is it a country?\n",
      "Yes answers: 194, percentage: 27.75%\n",
      "No answers: 505, percentage: 72.25%\n",
      "Error answers: 0, percentage: 0.00%\n"
     ]
    },
    {
     "name": "stderr",
     "output_type": "stream",
     "text": [
      "label_keywords: 100%|█████████████████████████████████████████████| 699/699 [06:09<00:00,  1.89it/s]\n",
      "labels:  10%|██████████▎                                                                                            | 2/20 [12:29<1:52:09, 373.88s/it]"
     ]
    },
    {
     "name": "stdout",
     "output_type": "stream",
     "text": [
      "Is it a city?\n",
      "Yes answers: 307, percentage: 43.92%\n",
      "No answers: 392, percentage: 56.08%\n",
      "Error answers: 0, percentage: 0.00%\n"
     ]
    },
    {
     "name": "stderr",
     "output_type": "stream",
     "text": [
      "label_keywords: 100%|█████████████████████████████████████████████| 699/699 [06:01<00:00,  1.93it/s]\n",
      "labels:  15%|███████████████▍                                                                                       | 3/20 [18:31<1:44:22, 368.36s/it]"
     ]
    },
    {
     "name": "stdout",
     "output_type": "stream",
     "text": [
      "Is it a capital of a country?\n",
      "Yes answers: 135, percentage: 19.31%\n",
      "No answers: 564, percentage: 80.69%\n",
      "Error answers: 0, percentage: 0.00%\n"
     ]
    },
    {
     "name": "stderr",
     "output_type": "stream",
     "text": [
      "label_keywords: 100%|█████████████████████████████████████████████| 699/699 [06:00<00:00,  1.94it/s]\n",
      "labels:  20%|████████████████████▌                                                                                  | 4/20 [24:32<1:37:26, 365.38s/it]"
     ]
    },
    {
     "name": "stdout",
     "output_type": "stream",
     "text": [
      "Is the place either a landlocked country or a place located in a landlocked country?\n",
      "Yes answers: 63, percentage: 9.01%\n",
      "No answers: 636, percentage: 90.99%\n",
      "Error answers: 0, percentage: 0.00%\n"
     ]
    },
    {
     "name": "stderr",
     "output_type": "stream",
     "text": [
      "label_keywords: 100%|█████████████████████████████████████████████| 699/699 [06:06<00:00,  1.91it/s]\n",
      "labels:  25%|█████████████████████████▊                                                                             | 5/20 [30:39<1:31:27, 365.85s/it]"
     ]
    },
    {
     "name": "stdout",
     "output_type": "stream",
     "text": [
      "Is this place found along the coast?\n",
      "Yes answers: 296, percentage: 42.35%\n",
      "No answers: 403, percentage: 57.65%\n",
      "Error answers: 0, percentage: 0.00%\n"
     ]
    },
    {
     "name": "stderr",
     "output_type": "stream",
     "text": [
      "label_keywords: 100%|█████████████████████████████████████████████| 699/699 [06:10<00:00,  1.89it/s]\n",
      "labels:  30%|██████████████████████████████▉                                                                        | 6/20 [36:49<1:25:43, 367.41s/it]"
     ]
    },
    {
     "name": "stdout",
     "output_type": "stream",
     "text": [
      "Is it a geological feature?\n",
      "Yes answers: 66, percentage: 9.44%\n",
      "No answers: 633, percentage: 90.56%\n",
      "Error answers: 0, percentage: 0.00%\n"
     ]
    },
    {
     "name": "stderr",
     "output_type": "stream",
     "text": [
      "label_keywords: 100%|█████████████████████████████████████████████| 699/699 [05:55<00:00,  1.97it/s]\n",
      "labels:  35%|████████████████████████████████████                                                                   | 7/20 [42:45<1:18:45, 363.54s/it]"
     ]
    },
    {
     "name": "stdout",
     "output_type": "stream",
     "text": [
      "Is it in Africa?\n",
      "Yes answers: 152, percentage: 21.75%\n",
      "No answers: 547, percentage: 78.25%\n",
      "Error answers: 0, percentage: 0.00%\n"
     ]
    },
    {
     "name": "stderr",
     "output_type": "stream",
     "text": [
      "label_keywords: 100%|█████████████████████████████████████████████| 699/699 [06:10<00:00,  1.88it/s]\n",
      "labels:  40%|█████████████████████████████████████████▏                                                             | 8/20 [48:56<1:13:10, 365.90s/it]"
     ]
    },
    {
     "name": "stdout",
     "output_type": "stream",
     "text": [
      "Is it in Asia?\n",
      "Yes answers: 237, percentage: 33.91%\n",
      "No answers: 462, percentage: 66.09%\n",
      "Error answers: 0, percentage: 0.00%\n"
     ]
    },
    {
     "name": "stderr",
     "output_type": "stream",
     "text": [
      "label_keywords: 100%|█████████████████████████████████████████████| 699/699 [06:08<00:00,  1.90it/s]\n",
      "labels:  45%|██████████████████████████████████████████████▎                                                        | 9/20 [55:04<1:07:14, 366.80s/it]"
     ]
    },
    {
     "name": "stdout",
     "output_type": "stream",
     "text": [
      "Is it in Europe?\n",
      "Yes answers: 266, percentage: 38.05%\n",
      "No answers: 433, percentage: 61.95%\n",
      "Error answers: 0, percentage: 0.00%\n"
     ]
    },
    {
     "name": "stderr",
     "output_type": "stream",
     "text": [
      "label_keywords: 100%|█████████████████████████████████████████████| 699/699 [06:06<00:00,  1.91it/s]\n",
      "labels:  50%|██████████████████████████████████████████████████                                                  | 10/20 [1:01:11<1:01:08, 366.81s/it]"
     ]
    },
    {
     "name": "stdout",
     "output_type": "stream",
     "text": [
      "Is it in the Western hemisphere?\n",
      "Yes answers: 242, percentage: 34.62%\n",
      "No answers: 457, percentage: 65.38%\n",
      "Error answers: 0, percentage: 0.00%\n"
     ]
    },
    {
     "name": "stderr",
     "output_type": "stream",
     "text": [
      "label_keywords: 100%|█████████████████████████████████████████████| 699/699 [06:03<00:00,  1.92it/s]\n",
      "labels:  55%|████████████████████████████████████████████████████████                                              | 11/20 [1:07:14<54:51, 365.70s/it]"
     ]
    },
    {
     "name": "stdout",
     "output_type": "stream",
     "text": [
      "Is it in Oceania?\n",
      "Yes answers: 69, percentage: 9.87%\n",
      "No answers: 630, percentage: 90.13%\n",
      "Error answers: 0, percentage: 0.00%\n"
     ]
    },
    {
     "name": "stderr",
     "output_type": "stream",
     "text": [
      "label_keywords: 100%|█████████████████████████████████████████████| 699/699 [06:03<00:00,  1.92it/s]\n",
      "labels:  60%|█████████████████████████████████████████████████████████████▏                                        | 12/20 [1:13:18<48:40, 365.03s/it]"
     ]
    },
    {
     "name": "stdout",
     "output_type": "stream",
     "text": [
      "Is it either in europe or asia?\n",
      "Yes answers: 398, percentage: 56.94%\n",
      "No answers: 301, percentage: 43.06%\n",
      "Error answers: 0, percentage: 0.00%\n"
     ]
    },
    {
     "name": "stderr",
     "output_type": "stream",
     "text": [
      "label_keywords: 100%|█████████████████████████████████████████████| 699/699 [06:20<00:00,  1.84it/s]\n",
      "labels:  65%|██████████████████████████████████████████████████████████████████▎                                   | 13/20 [1:19:38<43:08, 369.72s/it]"
     ]
    },
    {
     "name": "stdout",
     "output_type": "stream",
     "text": [
      "Is it in the Americas?\n",
      "Yes answers: 279, percentage: 39.91%\n",
      "No answers: 420, percentage: 60.09%\n",
      "Error answers: 0, percentage: 0.00%\n"
     ]
    },
    {
     "name": "stderr",
     "output_type": "stream",
     "text": [
      "label_keywords: 100%|█████████████████████████████████████████████| 699/699 [06:07<00:00,  1.90it/s]\n",
      "labels:  70%|███████████████████████████████████████████████████████████████████████▍                              | 14/20 [1:25:45<36:53, 368.92s/it]"
     ]
    },
    {
     "name": "stdout",
     "output_type": "stream",
     "text": [
      "Is it in North America?\n",
      "Yes answers: 236, percentage: 33.76%\n",
      "No answers: 463, percentage: 66.24%\n",
      "Error answers: 0, percentage: 0.00%\n"
     ]
    },
    {
     "name": "stderr",
     "output_type": "stream",
     "text": [
      "label_keywords: 100%|█████████████████████████████████████████████| 699/699 [06:05<00:00,  1.92it/s]\n",
      "labels:  75%|████████████████████████████████████████████████████████████████████████████▌                         | 15/20 [1:31:50<30:38, 367.74s/it]"
     ]
    },
    {
     "name": "stdout",
     "output_type": "stream",
     "text": [
      "Is it a man-made landmark?\n",
      "Yes answers: 307, percentage: 43.92%\n",
      "No answers: 392, percentage: 56.08%\n",
      "Error answers: 0, percentage: 0.00%\n"
     ]
    },
    {
     "name": "stderr",
     "output_type": "stream",
     "text": [
      "label_keywords: 100%|█████████████████████████████████████████████| 699/699 [05:53<00:00,  1.98it/s]\n",
      "labels:  80%|█████████████████████████████████████████████████████████████████████████████████▌                    | 16/20 [1:37:44<24:14, 363.57s/it]"
     ]
    },
    {
     "name": "stdout",
     "output_type": "stream",
     "text": [
      "Is it a natural landmark?\n",
      "Yes answers: 102, percentage: 14.59%\n",
      "No answers: 597, percentage: 85.41%\n",
      "Error answers: 0, percentage: 0.00%\n"
     ]
    },
    {
     "name": "stderr",
     "output_type": "stream",
     "text": [
      "label_keywords: 100%|█████████████████████████████████████████████| 699/699 [05:54<00:00,  1.97it/s]\n",
      "labels:  85%|██████████████████████████████████████████████████████████████████████████████████████▋               | 17/20 [1:43:39<18:02, 360.93s/it]"
     ]
    },
    {
     "name": "stdout",
     "output_type": "stream",
     "text": [
      "Is it north of the equator?\n",
      "Yes answers: 541, percentage: 77.40%\n",
      "No answers: 157, percentage: 22.46%\n",
      "Error answers: 1, percentage: 0.14%\n"
     ]
    },
    {
     "name": "stderr",
     "output_type": "stream",
     "text": [
      "label_keywords: 100%|█████████████████████████████████████████████| 699/699 [06:15<00:00,  1.86it/s]\n",
      "labels:  90%|███████████████████████████████████████████████████████████████████████████████████████████▊          | 18/20 [1:49:55<12:10, 365.38s/it]"
     ]
    },
    {
     "name": "stdout",
     "output_type": "stream",
     "text": [
      "Is it a body of water?\n",
      "Yes answers: 20, percentage: 2.86%\n",
      "No answers: 679, percentage: 97.14%\n",
      "Error answers: 0, percentage: 0.00%\n"
     ]
    },
    {
     "name": "stderr",
     "output_type": "stream",
     "text": [
      "label_keywords: 100%|█████████████████████████████████████████████| 699/699 [06:03<00:00,  1.92it/s]\n",
      "labels:  95%|████████████████████████████████████████████████████████████████████████████████████████████████▉     | 19/20 [1:55:58<06:04, 364.72s/it]"
     ]
    },
    {
     "name": "stdout",
     "output_type": "stream",
     "text": [
      "Is it a type of biome?\n",
      "Yes answers: 8, percentage: 1.14%\n",
      "No answers: 691, percentage: 98.86%\n",
      "Error answers: 0, percentage: 0.00%\n"
     ]
    },
    {
     "name": "stderr",
     "output_type": "stream",
     "text": [
      "label_keywords: 100%|█████████████████████████████████████████████| 699/699 [05:54<00:00,  1.97it/s]\n",
      "labels: 100%|██████████████████████████████████████████████████████████████████████████████████████████████████████| 20/20 [2:01:53<00:00, 365.67s/it]"
     ]
    },
    {
     "name": "stdout",
     "output_type": "stream",
     "text": [
      "Is it a type of building or stucture?\n",
      "Yes answers: 50, percentage: 7.15%\n",
      "No answers: 649, percentage: 92.85%\n",
      "Error answers: 0, percentage: 0.00%\n"
     ]
    },
    {
     "name": "stderr",
     "output_type": "stream",
     "text": [
      "\n"
     ]
    }
   ],
   "source": [
    "for label in tqdm(labels_places, desc = 'labels', ncols=150):\n",
    "    keyword_labels, results = label_keywords(label, keyword_places, keyword_labels, results)"
   ]
  },
  {
   "cell_type": "markdown",
   "id": "dc48864e-6b8f-4340-a4f5-737565826b6b",
   "metadata": {},
   "source": [
    "## Save as JSONL"
   ]
  },
  {
   "cell_type": "code",
   "execution_count": 11,
   "id": "6b0ac208-503c-4530-9ba3-6f05bd792e23",
   "metadata": {},
   "outputs": [],
   "source": [
    "def make_list_from_dict(original_dict):\n",
    "    list_of_dicts = []\n",
    "    for key, sub_dict in original_dict.items():\n",
    "        # Create a new dictionary that includes the key from the original dict\n",
    "        new_dict = {\"keyword\": key}\n",
    "        # Update the new dictionary with the key-value pairs from the sub-dictionary\n",
    "        new_dict.update(sub_dict)\n",
    "        # Append the new dictionary to the list\n",
    "        list_of_dicts.append(new_dict)\n",
    "    return list_of_dicts\n",
    "\n",
    "labeled_keywords_list = make_list_from_dict(keyword_labels)"
   ]
  },
  {
   "cell_type": "code",
   "execution_count": 12,
   "id": "101a36c3-29e4-4079-98f5-41b97b5fddd2",
   "metadata": {},
   "outputs": [],
   "source": [
    "with open(\"20qs-data/labeled_keywords_v2.jsonl\", \"w\") as f:\n",
    "    for i in labeled_keywords_list:\n",
    "        json.dump(i, f)\n",
    "        f.write('\\n')\n",
    "\n",
    "with open(\"20qs-data/labeling_results_v2.jsonl\", \"w\") as f:\n",
    "    json.dump(results, f)"
   ]
  }
 ],
 "metadata": {
  "kernelspec": {
   "display_name": "Python 3 (ipykernel)",
   "language": "python",
   "name": "python3"
  },
  "language_info": {
   "codemirror_mode": {
    "name": "ipython",
    "version": 3
   },
   "file_extension": ".py",
   "mimetype": "text/x-python",
   "name": "python",
   "nbconvert_exporter": "python",
   "pygments_lexer": "ipython3",
   "version": "3.11.7"
  }
 },
 "nbformat": 4,
 "nbformat_minor": 5
}
