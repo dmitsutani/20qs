{
 "cells": [
  {
   "cell_type": "code",
   "execution_count": 1,
   "id": "9a2d1b06-e8b0-434e-9de5-25b504712403",
   "metadata": {},
   "outputs": [],
   "source": [
    "%%capture\n",
    "!{sys.executable} -m pip install openai\n",
    "!{sys.executable} -m pip install litellm"
   ]
  },
  {
   "cell_type": "code",
   "execution_count": 1,
   "id": "ad3715cd-c529-4091-b517-a0ba4d8c44e8",
   "metadata": {},
   "outputs": [],
   "source": [
    "import os, sys\n",
    "from openai import OpenAI\n",
    "\n",
    "if not os.environ[\"OPENAI_API_KEY\"]: \n",
    "    os.environ[\"OPENAI_API_KEY\"]= '<REDACTED>'\n",
    "\n",
    "MODEL = \"gpt-4o-mini\"\n",
    "\n",
    "client = OpenAI(\n",
    "    api_key=os.environ.get(\"OPENAI_API_KEY\"),\n",
    ")"
   ]
  },
  {
   "cell_type": "markdown",
   "id": "70c8b0c4",
   "metadata": {},
   "source": [
    "Baseline decision tree:"
   ]
  },
  {
   "cell_type": "code",
   "execution_count": 6,
   "id": "b6fb2991-c731-44f6-8db0-05414368e94c",
   "metadata": {
    "jupyter": {
     "source_hidden": true
    },
    "scrolled": true
   },
   "outputs": [
    {
     "name": "stdout",
     "output_type": "stream",
     "text": [
      "Turn 1: Is it a place?\n",
      " ├─ Yes:\n",
      "    → Examples: Lesotho, Acapulco, Oceania, Parking lot\n",
      "    Turn 2: Is it a country?\n",
      "     ├─ Yes:\n",
      "        → Examples: Brazil, Japan, Kenya, Norway\n",
      "        Turn 3: Is this country either in Asia or in Africa?\n",
      "         ├─ Yes:\n",
      "            → Examples: Thailand, North Korea, Egypt, Nigeria\n",
      "            Turn 4: Is this country in Asia?\n",
      "             ├─ Yes:\n",
      "                → Summary: The keyword is a country in Asia.\n",
      "                → Examples: Kazakhstan, South Korea\n",
      "             └─ No:\n",
      "                → Summary: The keyword is a country in Africa.\n",
      "                → Examples: Morocco, Ghana\n",
      "         └─ No:\n",
      "            → Examples: Lithuania, Papua New Guinea, Uruguay, Slovakia\n",
      "            Turn 4: Is this country in Europe?\n",
      "             ├─ Yes:\n",
      "                → Summary: The keyword is a country in Europe.\n",
      "                → Examples: Romania, Germany\n",
      "             └─ No:\n",
      "                → Examples: Australia, Nicaragua, Chile, United States\n",
      "                Turn 5: Is this country in the Americas?\n",
      "                 ├─ Yes:\n",
      "                    → Summary: The keyword is a country in the Americas.\n",
      "                    → Examples: Argentina, Canada\n",
      "                 └─ No:\n",
      "                    → Summary: The keyword is a country in Oceania.\n",
      "                    → Examples: New Zealand, Samoa\n",
      "     └─ No:\n",
      "        → Examples: Venice, Lagos, Times Square, Colosseum\n",
      "        Turn 3: Is it a city?\n",
      "         ├─ Yes:\n",
      "            → Examples: Paris, Astana, Alexandria, Sao Paulo\n",
      "            Turn 4: Is it a capital city?\n",
      "             ├─ Yes:\n",
      "                → Summary: The keyword is a capital city.\n",
      "                → Examples: Moscow, Santiago\n",
      "             └─ No:\n",
      "                → Summary: The keyword is a city which is not a capital.\n",
      "                → Examples: Chicago, Tianjin\n",
      "         └─ No:\n",
      "            → Examples: Oceania, Nevada, Times Square, Colosseum\n",
      "            Turn 4: Is it either a continent or a state of a country?\n",
      "             ├─ Yes:\n",
      "                → Examples: North America, Nevada, Roraima, Uttar Pradesh\n",
      "                Turn 5: Is it a continent?\n",
      "                 ├─ Yes:\n",
      "                    → Summary: The keyword is a continent.\n",
      "                    → Examples: Africa, Asia\n",
      "                 └─ No:\n",
      "                    → Summary: The keyword is a state of a country.\n",
      "                    → Examples: Kentucky, Santa Catarina Brazil\n",
      "             └─ No:\n",
      "                → Examples: Copacabana beach, university campus, Antarctica, tundra\n",
      "                Turn 5: Is it a location made by humans?\n",
      "                 ├─ Yes:\n",
      "                    → Summary: The keyword is a location made by humans.\n",
      "                    → Examples: Champs-Elysees, Amusement park\n",
      "                 └─ No:\n",
      "                    → Summary: The keyword is a natural location.\n",
      "                    → Examples: Amazon rainforest, Desert\n",
      " └─ No:\n",
      "    → Examples: Pencil sharpener, cloud, chimney, electric vehicle\n",
      "    Turn 2: Is it man-made?\n",
      "     ├─ Yes:\n",
      "        → Examples: plastic bottle, martini, earbuds, helicopter\n",
      "        Turn 3: Is it found indoors?\n",
      "         ├─ Yes:\n",
      "            → Examples: pencil sharpener, refrigerator, coffee machine, escalator\n",
      "            Turn 4: Is it something found in a home?\n",
      "             ├─ Yes:\n",
      "                → Summary: The keyword is a man-made thing found in people's homes.\n",
      "                → Examples: Bed frame, Stove\n",
      "             └─ No:\n",
      "                → Summary: The keyword is a man-made thing found indoors but not in people's homes.\n",
      "                → Examples: Hospital bed, Erlenmeyer flask\n",
      "         └─ No:\n",
      "            → Examples: pickup truck, train, fountain, obelisk\n",
      "            Turn 4: Is it something found in a city?\n",
      "             ├─ Yes:\n",
      "                → Summary: The keyword is a man-made thing found outdoors in cities.\n",
      "                → Examples: Apartment Building, Fire Hydrant\n",
      "             └─ No:\n",
      "                → Summary: The keyword is a man-made thing found outdoors outside of cities.\n",
      "                → Examples: Satellite, Barn\n",
      "     └─ No:\n",
      "        → Examples: thunder, Acacia, giraffe, river\n",
      "        Turn 3: Is it a living thing?\n",
      "         ├─ Yes:\n",
      "            → Examples: Palm tree, beetle, whale, apple\n",
      "            Turn 4: Is it an animal?\n",
      "             ├─ Yes:\n",
      "                → Examples: sea lion, cape toad, kangaroo, peacock\n",
      "                Turn 5: Is it a mammal or a bird?\n",
      "                 ├─ Yes:\n",
      "                    → Summary: The keyword is either a mammal or a bird.\n",
      "                    → Examples: Elephant, Seagull\n",
      "                 └─ No:\n",
      "                    → Summary: The keyword is either a fish, insect, reptilian or amphibian.\n",
      "                    → Examples: Shark, Wasp, Frog, Alligator\n",
      "             └─ No:\n",
      "                → Examples: mold, deciduous tree, yeast, agave\n",
      "                Turn 5: Is it a plant?\n",
      "                 ├─ Yes:\n",
      "                    → Examples: orchid, poison ivy, maple tree, sunflower\n",
      "                    Turn 6: Is it a tree?\n",
      "                     ├─ Yes:\n",
      "                        → Summary: The keyword is a tree.\n",
      "                        → Examples: Oak tree, Cactus\n",
      "                     └─ No:\n",
      "                        → Summary: The keyword is a plant which is not a tree.\n",
      "                        → Examples: Rose, Fern\n",
      "                 └─ No:\n",
      "                    → Examples: black mold, truffle, cremini mushroom, bacillus\n",
      "                    Turn 6: Is it a fungus?\n",
      "                     ├─ Yes:\n",
      "                        → Summary: The keyword is a fungus.\n",
      "                        → Examples: Wood ear mushroom, Yeast\n",
      "                     └─ No:\n",
      "                        → Summary: The keyword is a bacteria.\n",
      "                        → Examples: E Coli, Streptococcus\n",
      "         └─ No:\n",
      "            → Examples: uranus, seine river, carbon, electron\n",
      "            Turn 4: Is it a geological feature?\n",
      "             ├─ Yes:\n",
      "                → Examples: Mount Fuji, volcano, canyon, Rocky mountains\n",
      "                Turn 5: Is it a body of water?\n",
      "                 ├─ Yes:\n",
      "                    → Summary: The keyword is a body of water.\n",
      "                    → Examples: River, Mediterranean Sea\n",
      "                 └─ No:\n",
      "                    → Summary: The keyword is a geological feature which is not a body of water.\n",
      "                    → Examples: Cave, Volcano\n",
      "             └─ No:\n",
      "                → Examples: mercury, sun, iron, lead\n",
      "                Turn 5: Is it a chemical element, molecule or compound?\n",
      "                 ├─ Yes:\n",
      "                    → Summary: The keyword is a chemical element, molecule or compound.\n",
      "                    → Examples: Salt, Oxygen\n",
      "                 └─ No:\n",
      "                    → Summary: The keyword is a non-living thing not made by humans.\n",
      "                    → Examples: Pebble, Milky Way\n"
     ]
    }
   ],
   "source": [
    "class Node:\n",
    "    def __init__(self, question=None, tag = None, yes_branch=None, no_branch=None, examples=None, summary=None):\n",
    "        self.question = question\n",
    "        self.yes_branch = yes_branch\n",
    "        self.no_branch = no_branch\n",
    "        self.examples = examples\n",
    "        self.summary = summary\n",
    "        self.tag = tag\n",
    "\n",
    "def print_tree(node, indent=0):\n",
    "    \"\"\" Recursively print the decision tree. \"\"\"\n",
    "    if node is None:\n",
    "        return\n",
    "    if node.summary:\n",
    "        # Print leaf node summary\n",
    "        print(' ' * indent + f'→ Summary: The keyword is {node.summary}.')\n",
    "    if node.examples:\n",
    "        # Print leaf node examples\n",
    "        print(' ' * indent + f'→ Examples: {\", \".join(node.examples)}')\n",
    "    if node.question:\n",
    "        # Print the question node\n",
    "        turn = indent // 4 + 1\n",
    "        print(' ' * indent + f'Turn {turn}: {node.question}')\n",
    "        if node.yes_branch or node.no_branch:\n",
    "            print(' ' * indent + ' ├─ Yes:')\n",
    "            print_tree(node.yes_branch, indent + 4)  # Print yes branch\n",
    "            print(' ' * indent + ' └─ No:')\n",
    "            print_tree(node.no_branch, indent + 4)   # Print no branch\n",
    "\n",
    "# Define the decision tree structure\n",
    "tree = Node(\n",
    "    \"Is it a place?\",\n",
    "    tag = \"place\",\n",
    "    yes_branch=Node(\n",
    "        examples=['Lesotho', 'Acapulco', 'Oceania', 'Parking lot'],\n",
    "        question=\"Is it a country?\",\n",
    "        tag = \"country\",\n",
    "        yes_branch=Node(\n",
    "            examples=['Brazil', 'Japan', 'Kenya', 'Norway'],\n",
    "            question=\"Is this country either in Asia or in Africa?\",\n",
    "            yes_branch=Node(\n",
    "                examples=['Thailand', 'North Korea', 'Egypt', 'Nigeria'],\n",
    "                question=\"Is this country in Asia?\",\n",
    "                yes_branch=Node(summary='a country in Asia', examples=['Kazakhstan', 'South Korea']),\n",
    "                no_branch=Node(summary='a country in Africa', examples=['Morocco', 'Ghana'])\n",
    "            ),\n",
    "            no_branch=Node(\n",
    "                examples=['Lithuania', 'Papua New Guinea', 'Uruguay', 'Slovakia'],\n",
    "                question=\"Is this country in Europe?\",\n",
    "                yes_branch=Node(summary='a country in Europe', examples=['Romania', 'Germany']),\n",
    "                no_branch=Node(\n",
    "                    examples=['Australia', 'Nicaragua', 'Chile', 'United States'],\n",
    "                    question=\"Is this country in the Americas?\",\n",
    "                    yes_branch=Node(summary='a country in the Americas', examples=['Argentina', 'Canada']),\n",
    "                    no_branch=Node(summary='a country in Oceania', examples=['New Zealand', 'Samoa'])\n",
    "                )\n",
    "            )\n",
    "        ),\n",
    "        no_branch=Node(\n",
    "            examples=['Venice', 'Lagos', 'Times Square', 'Colosseum'],\n",
    "            question=\"Is it a city?\",\n",
    "            tag = \"city\",\n",
    "            yes_branch=Node(\n",
    "                examples=['Paris', 'Astana', 'Alexandria', 'Sao Paulo'],\n",
    "                question=\"Is it a capital city?\",\n",
    "                yes_branch=Node(summary='a capital city', examples=['Moscow', 'Santiago']),\n",
    "                no_branch=Node(summary='a city which is not a capital', examples=['Chicago', 'Tianjin'])\n",
    "            ),\n",
    "            no_branch=Node(\n",
    "                examples=['Oceania', 'Nevada', 'Times Square', 'Colosseum'],\n",
    "                question=\"Is it either a continent or a state of a country?\",\n",
    "                yes_branch=Node(\n",
    "                    examples=['North America', 'Nevada', 'Roraima', 'Uttar Pradesh'],\n",
    "                    question=\"Is it a continent?\",\n",
    "                    yes_branch=Node(summary='a continent', examples=['Africa', 'Asia']),\n",
    "                    no_branch=Node(summary='a state of a country', examples=['Kentucky', 'Santa Catarina Brazil'])\n",
    "                ),\n",
    "                no_branch=Node(\n",
    "                    examples=['Copacabana beach', 'university campus', 'Antarctica', 'tundra'],\n",
    "                    question=\"Is it a location made by humans?\",\n",
    "                    yes_branch=Node(summary='a location made by humans', examples=['Champs-Elysees', 'Amusement park']),\n",
    "                    no_branch=Node(summary='a natural location', examples=['Amazon rainforest', 'Desert'])\n",
    "                )\n",
    "            )\n",
    "        )\n",
    "    ),\n",
    "    no_branch=Node(\n",
    "        examples=['Pencil sharpener', 'cloud', 'chimney', 'electric vehicle'],\n",
    "        question=\"Is it man-made?\",\n",
    "        tag=\"man-made\",\n",
    "        yes_branch=Node(\n",
    "            examples=['plastic bottle', 'martini', 'earbuds', 'helicopter'],\n",
    "            question=\"Is it found indoors?\",\n",
    "            tag=\"indoors\",\n",
    "            yes_branch=Node(\n",
    "                examples=['pencil sharpener', 'refrigerator', 'coffee machine', 'escalator'],\n",
    "                question=\"Is it something found in a home?\",\n",
    "                tag=\"home\",\n",
    "                yes_branch=Node(summary='a man-made thing found in people\\'s homes', examples=[\"Bed frame\", \"Stove\"]),\n",
    "                no_branch=Node(summary='a man-made thing found indoors but not in people\\'s homes', examples=[\"Hospital bed\", \"Erlenmeyer flask\"])\n",
    "            ),\n",
    "            no_branch=Node(\n",
    "                examples=['pickup truck', 'train', 'fountain', 'obelisk'],\n",
    "                question=\"Is it something found in a city?\",\n",
    "                tag=\"city\",\n",
    "                yes_branch=Node(summary='a man-made thing found outdoors in cities', examples=['Apartment Building', 'Fire Hydrant']),\n",
    "                no_branch=Node(summary='a man-made thing found outdoors outside of cities', examples=['Satellite', 'Barn'])\n",
    "            ),\n",
    "        ),\n",
    "        no_branch=Node(\n",
    "            examples=['thunder', 'Acacia', 'giraffe', 'river'],\n",
    "            question=\"Is it a living thing?\",\n",
    "            tag=\"living\",\n",
    "            yes_branch=Node(\n",
    "                examples=['Palm tree', 'beetle', 'whale', 'apple'],\n",
    "                question=\"Is it an animal?\",\n",
    "                tag=\"animal\",\n",
    "                yes_branch=Node(\n",
    "                    examples=['sea lion', 'cape toad', 'kangaroo', 'peacock'],\n",
    "                    question=\"Is it a mammal or a bird?\",\n",
    "                    yes_branch=Node(summary='either a mammal or a bird', examples=[\"Elephant\", \"Seagull\"]),\n",
    "                    no_branch=Node(summary='either a fish, insect, reptilian or amphibian', examples=[\"Shark\", \"Wasp\", \"Frog\", \"Alligator\"])\n",
    "                ),\n",
    "                no_branch=Node(\n",
    "                    examples=['mold', 'deciduous tree', 'yeast', 'agave'],\n",
    "                    question=\"Is it a plant?\",\n",
    "                    tag=\"plant\",\n",
    "                    yes_branch=Node(\n",
    "                        examples=['orchid', 'poison ivy', 'maple tree', 'sunflower'],\n",
    "                        question=\"Is it a tree?\",\n",
    "                        yes_branch=Node(summary='a tree', examples=[\"Oak tree\", \"Cactus\"]),\n",
    "                        no_branch=Node(summary='a plant which is not a tree', examples=[\"Rose\", \"Fern\"])\n",
    "                    ),\n",
    "                    no_branch=Node(\n",
    "                        examples=['black mold', 'truffle', 'cremini mushroom', 'bacillus'],\n",
    "                        question=\"Is it a fungus?\",\n",
    "                        yes_branch=Node(summary='a fungus', examples=[\"Wood ear mushroom\", \"Yeast\"]),\n",
    "                        no_branch=Node(summary='a bacteria', examples=['E Coli', 'Streptococcus'])\n",
    "                    )\n",
    "                )\n",
    "            ),\n",
    "            no_branch=Node(\n",
    "                examples=['uranus', 'seine river', 'carbon', 'electron'],\n",
    "                question=\"Is it a geological feature?\",\n",
    "                tag=\"geological feature\",\n",
    "                yes_branch=Node(\n",
    "                    examples=['Mount Fuji', 'volcano', 'canyon', 'Rocky mountains'],\n",
    "                    question=\"Is it a body of water?\",\n",
    "                    yes_branch=Node(summary='a body of water', examples=[\"River\", \"Mediterranean Sea\"]),\n",
    "                    no_branch=Node(summary='a geological feature which is not a body of water', examples=[\"Cave\", \"Volcano\"])\n",
    "                ),\n",
    "                no_branch=Node(\n",
    "                    examples=['mercury', 'sun', 'iron', 'lead'],\n",
    "                    question=\"Is it a chemical element, molecule or compound?\",\n",
    "                    yes_branch=Node(summary='a chemical element, molecule or compound', examples=[\"Salt\", \"Oxygen\"]),\n",
    "                    no_branch=Node(summary='a non-living thing not made by humans', examples=['Pebble', 'Milky Way'])\n",
    "                )\n",
    "            )\n",
    "        )\n",
    "    )\n",
    ")\n",
    "\n",
    "# Print the decision tree\n",
    "print_tree(tree)"
   ]
  },
  {
   "cell_type": "markdown",
   "id": "bf56c5d4",
   "metadata": {},
   "source": [
    "Open keywords data:"
   ]
  },
  {
   "cell_type": "code",
   "execution_count": 2,
   "id": "a3015193-ee9b-4c50-a193-ee1af0c6fcd9",
   "metadata": {},
   "outputs": [
    {
     "name": "stdout",
     "output_type": "stream",
     "text": [
      "Number of keywords in data: 2046\n"
     ]
    }
   ],
   "source": [
    "def read_file_to_list(file_path):\n",
    "    with open(file_path, 'r') as file:\n",
    "        lines = file.read().splitlines()\n",
    "    return lines\n",
    "\n",
    "keywords_list = read_file_to_list('20qs-data/keywords.txt')\n",
    "keywords_list = keywords_list[1:]\n",
    "print(f\"Number of keywords in data: {len(keywords_list)}\")"
   ]
  },
  {
   "cell_type": "markdown",
   "id": "c4923da1",
   "metadata": {},
   "source": [
    "## Label Data"
   ]
  },
  {
   "cell_type": "code",
   "execution_count": 3,
   "id": "58d5c18b-e494-4349-8158-cbf86c9de815",
   "metadata": {},
   "outputs": [],
   "source": [
    "from collections import Counter\n",
    "from tqdm import tqdm\n",
    "import time\n",
    "\n",
    "def get_answer_from_node(node, keyword):\n",
    "    \n",
    "    prompt = f\"Keyword: {keyword}\\n\\nQuestion: {node.question}\\n\\n\"\n",
    "    prompt += \"\\nPlease provide an answer to the question based on the keyword. ONLY ANSWER Yes OR No. IF UNSURE, CHOOSE MOST LIKELY ANSWER FROM Yes OR No. \"\n",
    "    \n",
    "    response = client.chat.completions.create(\n",
    "        model=\"gpt-4o-mini\",\n",
    "        messages=[\n",
    "            {\"role\": \"user\", \"content\": prompt}\n",
    "        ],\n",
    "        max_tokens=10\n",
    "    )\n",
    "    response = response.choices[0].message.content\n",
    "\n",
    "    return response\n",
    "\n",
    "\n",
    "def label_keywords(node, keywords, labels, results):\n",
    "    \n",
    "    question_tag = node.tag\n",
    "    yes_no_counts = Counter()\n",
    "\n",
    "    for keyword in tqdm(keywords, desc = 'label_keywords', position = 0, leave = True, ncols = 100):\n",
    "        answer = get_answer_from_node(node, keyword)\n",
    "        answer = answer.lower()\n",
    "        # Count yes/no answers\n",
    "        if 'yes' in answer:\n",
    "            yes_no_counts['yes'] += 1\n",
    "            answer = 'yes'\n",
    "        elif 'no' in answer:\n",
    "            yes_no_counts['no'] += 1\n",
    "            answer = 'no'\n",
    "        else:\n",
    "            yes_no_counts['err'] +=1\n",
    "            answer = 'err'\n",
    "        if keyword in labels:\n",
    "            labels[keyword][question_tag] = answer\n",
    "        else:\n",
    "            labels[keyword] = {question_tag: answer}\n",
    "\n",
    "    # Calculate percentages\n",
    "    total_answers = sum(yes_no_counts.values())\n",
    "    yes_percentage = (yes_no_counts['yes'] / total_answers) * 100 if total_answers > 0 else 0\n",
    "    no_percentage = (yes_no_counts['no'] / total_answers) * 100 if total_answers > 0 else 0\n",
    "    err_percentage = (yes_no_counts['err'] / total_answers) * 100 if total_answers > 0 else 0\n",
    "\n",
    "    # Print results\n",
    "    print(node.question)\n",
    "    print(f\"Yes answers: {yes_no_counts['yes']}, percentage: {yes_percentage:.2f}%\")\n",
    "    print(f\"No answers: {yes_no_counts['no']}, percentage: {no_percentage:.2f}%\")\n",
    "    print(f\"Error answers: {yes_no_counts['err']}, percentage: {err_percentage:.2f}%\")\n",
    "\n",
    "    # Save results\n",
    "    results[question_tag] = {\n",
    "        'yes_percentage': yes_percentage,\n",
    "        'no_percentage': no_percentage,\n",
    "        'value_counts': dict(yes_no_counts)\n",
    "    }\n",
    "\n",
    "    return labels, results"
   ]
  },
  {
   "cell_type": "markdown",
   "id": "8b54f3bc-6332-44d3-a7e6-56928fdb809a",
   "metadata": {},
   "source": [
    "Read current keyword labels and results:"
   ]
  },
  {
   "cell_type": "code",
   "execution_count": 4,
   "id": "d5588c21-afad-4457-b36e-c12a3d7e1385",
   "metadata": {},
   "outputs": [],
   "source": [
    "import json\n",
    "\n",
    "def read_jsonl_and_transform(file_path):\n",
    "    result_dict = {}\n",
    "\n",
    "    with open(file_path, 'r') as file:\n",
    "        for line in file:\n",
    "            record = json.loads(line)\n",
    "            keyword = record.pop('keyword')\n",
    "            result_dict[keyword] = record\n",
    "\n",
    "    return result_dict\n",
    "\n",
    "def read_json_to_dict(file_path):\n",
    "    with open(file_path, 'r') as file:\n",
    "        data = json.load(file)\n",
    "    return data\n",
    "\n",
    "keyword_labels, results = read_jsonl_and_transform('20qs-data/labeled_keywords.jsonl'), read_json_to_dict('20qs-data/labeling_results.jsonl')"
   ]
  },
  {
   "cell_type": "markdown",
   "id": "c0701435-953d-41fc-b567-72aa6c2e95ed",
   "metadata": {},
   "source": [
    "Label places/things:"
   ]
  },
  {
   "cell_type": "code",
   "execution_count": 72,
   "id": "d6bd5a7d-afcc-46ef-bc1a-68e81293308d",
   "metadata": {},
   "outputs": [
    {
     "name": "stdout",
     "output_type": "stream",
     "text": [
      "Is it a place?\n",
      "Yes answers: 719, percentage: 35.15892420537897%\n",
      "No answers: 1326, percentage: 64.84107579462103%\n",
      "Error answers: 0, percentage: 0.0%\n"
     ]
    }
   ],
   "source": [
    "keyword_labels, results = label_keywords(tree, keywords_list, keyword_labels, results)"
   ]
  },
  {
   "cell_type": "code",
   "execution_count": 7,
   "id": "6456aeae-fe98-46d2-85e8-c90b95804584",
   "metadata": {},
   "outputs": [
    {
     "name": "stdout",
     "output_type": "stream",
     "text": [
      "Number of keywords labeled as things: 1327.\n"
     ]
    }
   ],
   "source": [
    "keyword_places = [keyword for keyword in keywords_list if keyword_labels[keyword]['place'] == 'yes']\n",
    "keyword_things = [keyword for keyword in keywords_list if keyword_labels[keyword]['place'] == 'no']\n",
    "things_branch = tree.no_branch\n",
    "places_branch = tree.yes_branch\n",
    "\n",
    "print(f\"Number of keywords labeled as things: {len(keyword_things)}.\")"
   ]
  },
  {
   "cell_type": "markdown",
   "id": "71441f18",
   "metadata": {},
   "source": [
    "Label man-made living:"
   ]
  },
  {
   "cell_type": "code",
   "execution_count": 100,
   "id": "c5f2d6ab-d969-4a96-9bc9-d8ef06299ceb",
   "metadata": {},
   "outputs": [
    {
     "name": "stdout",
     "output_type": "stream",
     "text": [
      "Is it a living thing?\n",
      "Yes answers: 182, percentage: 64.31095406360424%\n",
      "No answers: 101, percentage: 35.68904593639576%\n",
      "Error answers: 0, percentage: 0.0%\n"
     ]
    }
   ],
   "source": [
    "keyword_labels, results = label_keywords(not_man_made_branch, keyword_not_man_made, keyword_labels, results)"
   ]
  },
  {
   "cell_type": "code",
   "execution_count": 104,
   "id": "e5ac266e-e75d-495b-84e6-671f9e23bbe8",
   "metadata": {},
   "outputs": [],
   "source": [
    "living_branch = not_man_made_branch.yes_branch\n",
    "not_living_branch = not_man_made_branch.no_branch"
   ]
  },
  {
   "cell_type": "markdown",
   "id": "962877df",
   "metadata": {},
   "source": [
    "Label indoors:"
   ]
  },
  {
   "cell_type": "code",
   "execution_count": 110,
   "id": "83d5af0e-d850-45fe-9b43-bb2f01aea347",
   "metadata": {},
   "outputs": [
    {
     "name": "stdout",
     "output_type": "stream",
     "text": [
      "Is it found indoors?\n",
      "Yes answers: 912, percentage: 87.44%\n",
      "No answers: 131, percentage: 12.56%\n",
      "Error answers: 0, percentage: 0.00%\n"
     ]
    }
   ],
   "source": [
    "keyword_labels, results = label_keywords(man_made_branch, keyword_man_made, keyword_labels, results)"
   ]
  },
  {
   "cell_type": "code",
   "execution_count": 111,
   "id": "788c378e-0b42-458e-9c05-eac240007349",
   "metadata": {},
   "outputs": [],
   "source": [
    "keyword_indoors = [keyword for keyword in keyword_man_made if keyword_labels[keyword]['indoors'] == 'yes']\n",
    "keyword_outdoors = [keyword for keyword in keyword_man_made if keyword_labels[keyword]['indoors'] == 'no']"
   ]
  },
  {
   "cell_type": "markdown",
   "id": "787f7332",
   "metadata": {},
   "source": [
    "Categorical labels:"
   ]
  },
  {
   "cell_type": "code",
   "execution_count": 10,
   "id": "37fabb5c-d2ee-463b-8ce4-cf27ae522477",
   "metadata": {},
   "outputs": [],
   "source": [
    "category_nodes = [\n",
    "    Node(question='Is it broadly related to food, drinks or cooking?', tag='food, drinks, cooking'),\n",
    "    Node(question='Is it broadly related to arts, sports or entertainment?', tag='arts, sports, entertainment'),\n",
    "    Node(question='Is it broadly related to clothing, beauty or accessories?', tag='clothing, beauty, accessories'),\n",
    "    Node(question='Is it broadly related to furniture or architecture?', tag='furniture, architecture'),\n",
    "    Node(question='Is it broadly related to cleaning or hygiene?', tag='cleaning, hygiene'),\n",
    "    Node(question='Is it broadly related to transportation or vehicles?', tag='transportation, vehicles'),\n",
    "    Node(question='Is it broadly related to electronics or technology?', tag='electronics, technology'),    \n",
    "    Node(question='Is it broadly related to agriculture or industry?', tag='agriculture, industry'),\n",
    "    Node(question='Is it related to science or education?', tag='science, school, education'),\n",
    "    Node(question='Is it related to health or safety?', tag='health, safety'),\n",
    "]"
   ]
  },
  {
   "cell_type": "code",
   "execution_count": null,
   "id": "d2c100d8-2968-4a59-8955-e8dfd73ffe5f",
   "metadata": {
    "collapsed": true,
    "jupyter": {
     "outputs_hidden": true
    }
   },
   "outputs": [],
   "source": [
    "for cat_node in tqdm(category_nodes, desc = 'categories', ncols=150):\n",
    "    keyword_labels, results = label_keywords(cat_node, keyword_things, keyword_labels, results)"
   ]
  },
  {
   "cell_type": "code",
   "execution_count": 11,
   "id": "b68e25a1",
   "metadata": {},
   "outputs": [
    {
     "name": "stderr",
     "output_type": "stream",
     "text": [
      "label_keywords: 100%|███████████████████████████████████████████| 1327/1327 [11:24<00:00,  1.94it/s]"
     ]
    },
    {
     "name": "stdout",
     "output_type": "stream",
     "text": [
      "Is it related to science or education?\n",
      "Yes answers: 470, percentage: 35.42%\n",
      "No answers: 857, percentage: 64.58%\n",
      "Error answers: 0, percentage: 0.00%\n"
     ]
    },
    {
     "name": "stderr",
     "output_type": "stream",
     "text": [
      "\n"
     ]
    }
   ],
   "source": [
    "keyword_labels, results = label_keywords(category_nodes[-2], keyword_things, keyword_labels, results)"
   ]
  },
  {
   "cell_type": "code",
   "execution_count": 8,
   "id": "ec76df73",
   "metadata": {},
   "outputs": [
    {
     "name": "stdout",
     "output_type": "stream",
     "text": [
      "Is it a living thing? living\n",
      "Is it found indoors? indoors\n"
     ]
    }
   ],
   "source": [
    "living_branch = tree.no_branch.no_branch\n",
    "indoors_branch = tree.no_branch.yes_branch\n",
    "print(living_branch.question, living_branch.tag)\n",
    "print(indoors_branch.question, indoors_branch.tag)"
   ]
  },
  {
   "cell_type": "markdown",
   "id": "9dffc0a9",
   "metadata": {},
   "source": [
    "Trying additional labels:"
   ]
  },
  {
   "cell_type": "code",
   "execution_count": 9,
   "id": "452c30a1",
   "metadata": {},
   "outputs": [],
   "source": [
    "other_nodes = [\n",
    "    living_branch,\n",
    "    indoors_branch,\n",
    "    Node(question='Is it an animal?', tag='animal'),\n",
    "    Node(question='Is it a plant?', tag='plant'),\n",
    "    Node(question='Is it a natural phenomenon or feature?', tag='natural phenomenon, feature'),\n",
    "    Node(question='Is it a natural resource or material?', tag='natural resource, material'),\n",
    "    Node(question='Is it something that someone can hold in their hand?', tag='handheld')\n",
    "]"
   ]
  },
  {
   "cell_type": "code",
   "execution_count": 10,
   "id": "69505055",
   "metadata": {},
   "outputs": [
    {
     "name": "stderr",
     "output_type": "stream",
     "text": [
      "label_keywords: 100%|███████████████████████████████████████████| 1327/1327 [10:12<00:00,  2.17it/s]                            | 0/7 [00:00<?, ?it/s]\n",
      "categories:  14%|██████████████▎                                                                                     | 1/7 [10:12<1:01:12, 612.01s/it]"
     ]
    },
    {
     "name": "stdout",
     "output_type": "stream",
     "text": [
      "Is it a living thing?\n",
      "Yes answers: 188, percentage: 14.17%\n",
      "No answers: 1139, percentage: 85.83%\n",
      "Error answers: 0, percentage: 0.00%\n"
     ]
    },
    {
     "name": "stderr",
     "output_type": "stream",
     "text": [
      "label_keywords: 100%|███████████████████████████████████████████| 1327/1327 [10:23<00:00,  2.13it/s]\n",
      "categories:  29%|█████████████████████████████▏                                                                        | 2/7 [20:35<51:33, 618.78s/it]"
     ]
    },
    {
     "name": "stdout",
     "output_type": "stream",
     "text": [
      "Is it found indoors?\n",
      "Yes answers: 1083, percentage: 81.61%\n",
      "No answers: 244, percentage: 18.39%\n",
      "Error answers: 0, percentage: 0.00%\n"
     ]
    },
    {
     "name": "stderr",
     "output_type": "stream",
     "text": [
      "label_keywords: 100%|███████████████████████████████████████████| 1327/1327 [10:12<00:00,  2.17it/s]\n",
      "categories:  43%|███████████████████████████████████████████▋                                                          | 3/7 [30:47<41:03, 615.83s/it]"
     ]
    },
    {
     "name": "stdout",
     "output_type": "stream",
     "text": [
      "Is it an animal?\n",
      "Yes answers: 73, percentage: 5.50%\n",
      "No answers: 1254, percentage: 94.50%\n",
      "Error answers: 0, percentage: 0.00%\n"
     ]
    },
    {
     "name": "stderr",
     "output_type": "stream",
     "text": [
      "label_keywords: 100%|███████████████████████████████████████████| 1327/1327 [10:08<00:00,  2.18it/s]\n",
      "categories:  57%|██████████████████████████████████████████████████████████▎                                           | 4/7 [40:56<30:38, 612.89s/it]"
     ]
    },
    {
     "name": "stdout",
     "output_type": "stream",
     "text": [
      "Is it a plant?\n",
      "Yes answers: 137, percentage: 10.32%\n",
      "No answers: 1190, percentage: 89.68%\n",
      "Error answers: 0, percentage: 0.00%\n"
     ]
    },
    {
     "name": "stderr",
     "output_type": "stream",
     "text": [
      "label_keywords: 100%|███████████████████████████████████████████| 1327/1327 [10:20<00:00,  2.14it/s]\n",
      "categories:  71%|████████████████████████████████████████████████████████████████████████▊                             | 5/7 [51:16<20:31, 615.52s/it]"
     ]
    },
    {
     "name": "stdout",
     "output_type": "stream",
     "text": [
      "Is it a natural phenomenon or feature?\n",
      "Yes answers: 124, percentage: 9.34%\n",
      "No answers: 1203, percentage: 90.66%\n",
      "Error answers: 0, percentage: 0.00%\n"
     ]
    },
    {
     "name": "stderr",
     "output_type": "stream",
     "text": [
      "label_keywords: 100%|███████████████████████████████████████████| 1327/1327 [10:21<00:00,  2.14it/s]\n",
      "categories:  86%|█████████████████████████████████████████████████████████████████████████████████████▋              | 6/7 [1:01:37<10:17, 617.49s/it]"
     ]
    },
    {
     "name": "stdout",
     "output_type": "stream",
     "text": [
      "Is it a natural resource or material?\n",
      "Yes answers: 175, percentage: 13.19%\n",
      "No answers: 1152, percentage: 86.81%\n",
      "Error answers: 0, percentage: 0.00%\n"
     ]
    },
    {
     "name": "stderr",
     "output_type": "stream",
     "text": [
      "label_keywords: 100%|█████████████████████████████████████████| 1327/1327 [2:44:07<00:00,  7.42s/it]\n",
      "categories: 100%|███████████████████████████████████████████████████████████████████████████████████████████████████| 7/7 [3:45:45<00:00, 1935.03s/it]"
     ]
    },
    {
     "name": "stdout",
     "output_type": "stream",
     "text": [
      "Is it something that someone can hold in their hand?\n",
      "Yes answers: 962, percentage: 72.49%\n",
      "No answers: 365, percentage: 27.51%\n",
      "Error answers: 0, percentage: 0.00%\n"
     ]
    },
    {
     "name": "stderr",
     "output_type": "stream",
     "text": [
      "\n"
     ]
    }
   ],
   "source": [
    "for other_node in tqdm(other_nodes, desc = 'categories', ncols=150):\n",
    "    keyword_labels, results = label_keywords(other_node, keyword_things, keyword_labels, results)"
   ]
  },
  {
   "cell_type": "markdown",
   "id": "dc48864e-6b8f-4340-a4f5-737565826b6b",
   "metadata": {},
   "source": [
    "## Save as JSONL"
   ]
  },
  {
   "cell_type": "code",
   "execution_count": 11,
   "id": "6b0ac208-503c-4530-9ba3-6f05bd792e23",
   "metadata": {},
   "outputs": [],
   "source": [
    "def make_list_from_dict(original_dict):\n",
    "    list_of_dicts = []\n",
    "    for key, sub_dict in original_dict.items():\n",
    "        # Create a new dictionary that includes the key from the original dict\n",
    "        new_dict = {\"keyword\": key}\n",
    "        # Update the new dictionary with the key-value pairs from the sub-dictionary\n",
    "        new_dict.update(sub_dict)\n",
    "        # Append the new dictionary to the list\n",
    "        list_of_dicts.append(new_dict)\n",
    "    return list_of_dicts\n",
    "\n",
    "labeled_keywords_list = make_list_from_dict(keyword_labels)"
   ]
  },
  {
   "cell_type": "code",
   "execution_count": 12,
   "id": "101a36c3-29e4-4079-98f5-41b97b5fddd2",
   "metadata": {},
   "outputs": [],
   "source": [
    "with open(\"20qs-data/labeled_keywords.jsonl\", \"w\") as f:\n",
    "    for i in labeled_keywords_list:\n",
    "        json.dump(i, f)\n",
    "        f.write('\\n')\n",
    "\n",
    "with open(\"20qs-data/labeling_results.jsonl\", \"w\") as f:\n",
    "    json.dump(results, f)"
   ]
  }
 ],
 "metadata": {
  "kernelspec": {
   "display_name": "Python 3 (ipykernel)",
   "language": "python",
   "name": "python3"
  },
  "language_info": {
   "codemirror_mode": {
    "name": "ipython",
    "version": 3
   },
   "file_extension": ".py",
   "mimetype": "text/x-python",
   "name": "python",
   "nbconvert_exporter": "python",
   "pygments_lexer": "ipython3",
   "version": "3.11.7"
  }
 },
 "nbformat": 4,
 "nbformat_minor": 5
}
